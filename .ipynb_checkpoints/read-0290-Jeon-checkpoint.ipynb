{
 "cells": [
  {
   "cell_type": "code",
   "execution_count": 54,
   "id": "0bab93d3",
   "metadata": {},
   "outputs": [],
   "source": [
    "import numpy as np\n",
    "\n",
    "import matplotlib.pyplot as plt\n",
    "\n",
    "from IPython.display import Latex\n",
    "\n",
    "%matplotlib inline\n",
    "\n",
    "from NFW import NFW"
   ]
  },
  {
   "cell_type": "code",
   "execution_count": 55,
   "id": "564952c1",
   "metadata": {},
   "outputs": [],
   "source": [
    "전data = np.loadtxt(\"D:/Research/ultra-faint dwarf galaxies/dwarf_dm_5e8_0290.txt\")\n",
    "\n",
    "# 전 is the Hangul character for the surname Jeon of the data gatherer!\n",
    "# it's just my linguistics side being quirky and I'm glad Jupyter Notebook supports Hangul characters like this!"
   ]
  },
  {
   "cell_type": "code",
   "execution_count": null,
   "id": "163f93ff",
   "metadata": {},
   "outputs": [],
   "source": [
    "dx = 전data[:,4]\n",
    "# collect the 4th element of each row in the array into a massive array\n",
    "\n",
    "dy = 전data[:,5]\n",
    "# collect the 5th element of each row in the array into a massive array\n",
    "\n",
    "dz = 전data[:,6]\n",
    "# collect the 6th element of each row in the array into a massive array"
   ]
  },
  {
   "cell_type": "code",
   "execution_count": null,
   "id": "4f9e0762",
   "metadata": {},
   "outputs": [],
   "source": [
    "plt.figure(figsize=(8,6))\n",
    "\n",
    "plt.hist2d(dx, dy, bins=(300, 300), cmap=plt.cm.jet) # this plots dx and dy\n",
    "plt.colorbar(mappable=None, cax=None, ax=None)\n",
    "plt.xlabel('dx (pc)')\n",
    "plt.ylabel('dy (pc)')\n",
    "plt.show()\n",
    "plt.savefig(\"plot1_dx_dy.png\")"
   ]
  },
  {
   "cell_type": "code",
   "execution_count": null,
   "id": "07b52f5e",
   "metadata": {},
   "outputs": [],
   "source": [
    "plt.figure(figsize=(8,6))\n",
    "\n",
    "plt.hist2d(dy, dz, bins=(300, 300), cmap=plt.cm.jet) # this plots dy and dz\n",
    "plt.colorbar(mappable=None, cax=None, ax=None)\n",
    "plt.xlabel('dy (pc)')\n",
    "plt.ylabel('dz (pc)')\n",
    "plt.show()\n",
    "plt.savefig(\"plot2_dy_dz.png\")"
   ]
  },
  {
   "cell_type": "code",
   "execution_count": null,
   "id": "012d6d95",
   "metadata": {},
   "outputs": [],
   "source": [
    "plt.figure(figsize=(8,6))\n",
    "\n",
    "plt.hist2d(dx, dz, bins=(300, 300), cmap=plt.cm.jet) # this plots dx and dz\n",
    "plt.colorbar(mappable=None, cax=None, ax=None)\n",
    "plt.xlabel('dx (pc)')\n",
    "plt.ylabel('dz (pc)')\n",
    "plt.show()\n",
    "plt.savefig(\"plot3_dx_dz.png\")"
   ]
  },
  {
   "cell_type": "code",
   "execution_count": null,
   "id": "7a36f384",
   "metadata": {},
   "outputs": [],
   "source": []
  }
 ],
 "metadata": {
  "kernelspec": {
   "display_name": "Python 3",
   "language": "python",
   "name": "python3"
  },
  "language_info": {
   "codemirror_mode": {
    "name": "ipython",
    "version": 3
   },
   "file_extension": ".py",
   "mimetype": "text/x-python",
   "name": "python",
   "nbconvert_exporter": "python",
   "pygments_lexer": "ipython3",
   "version": "3.8.8"
  }
 },
 "nbformat": 4,
 "nbformat_minor": 5
}
