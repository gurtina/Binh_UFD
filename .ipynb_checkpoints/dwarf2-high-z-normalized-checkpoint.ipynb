{
 "cells": [
  {
   "cell_type": "code",
   "execution_count": 21,
   "id": "dde4226e",
   "metadata": {},
   "outputs": [],
   "source": [
    "# all the density stuff for high z measurements of dwarf 2, normalized."
   ]
  },
  {
   "cell_type": "code",
   "execution_count": 22,
   "id": "0bab93d3",
   "metadata": {},
   "outputs": [],
   "source": [
    "# import modules\n",
    "import numpy as np\n",
    "\n",
    "# import plotting modules\n",
    "import matplotlib\n",
    "import matplotlib.patches as mpatches\n",
    "import matplotlib.pyplot as plt\n",
    "from matplotlib.colors import LogNorm\n",
    "%matplotlib inline\n",
    "\n",
    "from IPython.display import Latex\n",
    "\n",
    "%matplotlib inline\n",
    "\n",
    "from NFW import NFW"
   ]
  },
  {
   "cell_type": "code",
   "execution_count": 23,
   "id": "317ffac7",
   "metadata": {},
   "outputs": [],
   "source": [
    "dr = 10"
   ]
  },
  {
   "cell_type": "code",
   "execution_count": 24,
   "id": "d83e6fd0",
   "metadata": {},
   "outputs": [
    {
     "data": {
      "text/plain": [
       "'THIS PART IS FOR DWARF 2 WITH RT'"
      ]
     },
     "execution_count": 24,
     "metadata": {},
     "output_type": "execute_result"
    }
   ],
   "source": [
    "'''THIS PART IS FOR DWARF 2 WITH RT'''"
   ]
  },
  {
   "cell_type": "code",
   "execution_count": 25,
   "id": "6ba3bdf7",
   "metadata": {},
   "outputs": [],
   "source": [
    "전data300 = np.loadtxt(\"D:/Research/ultra-faint dwarf galaxies/dwarf 2 RT/dwarf_dm_7e8_rt_0300.txt\")\n",
    "dx300 = 전data300[:,4]\n",
    "dy300 = 전data300[:,5]\n",
    "dz300 = 전data300[:,6]\n",
    "r300 = np.sqrt(dx300**2 + dy300**2 + dz300**2) # max: 9729.601282184898, closest to 9730\n",
    "rad_array300 = np.arange(10, 9730, dr, dtype=np.int64)\n",
    "density_profile300 = np.zeros(np.size(rad_array300))\n",
    "i = 0\n",
    "for radius_value in rad_array300:\n",
    "    particles = np.where((r300 > radius_value) & (r300 < (radius_value + dr)))\n",
    "    how_many_particles = np.size(particles)\n",
    "    shell_volume = 4/3*np.pi*((radius_value + dr)**3 - radius_value**3)\n",
    "    density_profile300[i] = how_many_particles / shell_volume\n",
    "    i += 1\n",
    "densityprof300 = density_profile300 / density_profile300[0]"
   ]
  },
  {
   "cell_type": "code",
   "execution_count": 26,
   "id": "9c8e1682",
   "metadata": {},
   "outputs": [],
   "source": [
    "전data280 = np.loadtxt(\"D:/Research/ultra-faint dwarf galaxies/dwarf 2 RT/dwarf_dm_7e8_rt_0280.txt\")\n",
    "dx280 = 전data280[:,4]\n",
    "dy280 = 전data280[:,5]\n",
    "dz280 = 전data280[:,6]\n",
    "r280 = np.sqrt(dx280**2 + dy280**2 + dz280**2) # max: 9000.405418072287, closest to 9040\n",
    "rad_array280 = np.arange(10, 9040, dr, dtype=np.int64)\n",
    "density_profile280 = np.zeros(np.size(rad_array280))\n",
    "i = 0\n",
    "for radius_value in rad_array280:\n",
    "    particles = np.where((r280 > radius_value) & (r280 < (radius_value + dr)))\n",
    "    how_many_particles = np.size(particles)\n",
    "    shell_volume = 4/3*np.pi*((radius_value + dr)**3 - radius_value**3)\n",
    "    density_profile280[i] = how_many_particles / shell_volume\n",
    "    i += 1\n",
    "densityprof280 = density_profile280 / density_profile280[0]"
   ]
  },
  {
   "cell_type": "code",
   "execution_count": 27,
   "id": "fb7bf6be",
   "metadata": {},
   "outputs": [],
   "source": [
    "전data260 = np.loadtxt(\"D:/Research/ultra-faint dwarf galaxies/dwarf 2 RT/dwarf_dm_7e8_rt_0260.txt\")\n",
    "dx260 = 전data260[:,4]\n",
    "dy260 = 전data260[:,5]\n",
    "dz260 = 전data260[:,6]\n",
    "r260 = np.sqrt(dx260**2 + dy260**2 + dz260**2) # max: 8158.5149146383255, closest to 8160\n",
    "rad_array260 = np.arange(10, 8160, dr, dtype=np.int64)\n",
    "density_profile260 = np.zeros(np.size(rad_array260))\n",
    "i = 0\n",
    "for radius_value in rad_array260:\n",
    "    particles = np.where((r260 > radius_value) & (r260 < (radius_value + dr)))\n",
    "    how_many_particles = np.size(particles)\n",
    "    shell_volume = 4/3*np.pi*((radius_value + dr)**3 - radius_value**3)\n",
    "    density_profile260[i] = how_many_particles / shell_volume\n",
    "    i += 1\n",
    "densityprof260 = density_profile260 / density_profile260[0]"
   ]
  },
  {
   "cell_type": "code",
   "execution_count": 28,
   "id": "4e5b097e",
   "metadata": {},
   "outputs": [],
   "source": [
    "전data240 = np.loadtxt(\"D:/Research/ultra-faint dwarf galaxies/dwarf 2 RT/dwarf_dm_7e8_rt_0240.txt\")\n",
    "dx240 = 전data240[:,4]\n",
    "dy240 = 전data240[:,5]\n",
    "dz240 = 전data240[:,6]\n",
    "r240 = np.sqrt(dx240**2 + dy240**2 + dz240**2) # max: 6905.243508263991, closest to 6910\n",
    "rad_array240 = np.arange(10, 6910, dr, dtype=np.int64)\n",
    "density_profile240 = np.zeros(np.size(rad_array240))\n",
    "i = 0\n",
    "for radius_value in rad_array240:\n",
    "    particles = np.where((r240 > radius_value) & (r240 < (radius_value + dr)))\n",
    "    how_many_particles = np.size(particles)\n",
    "    shell_volume = 4/3*np.pi*((radius_value + dr)**3 - radius_value**3)\n",
    "    density_profile240[i] = how_many_particles / shell_volume\n",
    "    i += 1\n",
    "densityprof240 = density_profile240 / density_profile240[0]"
   ]
  },
  {
   "cell_type": "code",
   "execution_count": 29,
   "id": "39c76175",
   "metadata": {},
   "outputs": [],
   "source": [
    "전data220 = np.loadtxt(\"D:/Research/ultra-faint dwarf galaxies/dwarf 2 RT/dwarf_dm_7e8_rt_0220.txt\")\n",
    "dx220 = 전data220[:,4]\n",
    "dy220 = 전data220[:,5]\n",
    "dz220 = 전data220[:,6]\n",
    "r220 = np.sqrt(dx220**2 + dy220**2 + dz220**2) # max: 5897.2878518382295, closest to 5900\n",
    "rad_array220 = np.arange(10, 5900, dr, dtype=np.int64)\n",
    "density_profile220 = np.zeros(np.size(rad_array220))\n",
    "i = 0\n",
    "for radius_value in rad_array220:\n",
    "    particles = np.where((r220 > radius_value) & (r220 < (radius_value + dr)))\n",
    "    how_many_particles = np.size(particles)\n",
    "    shell_volume = 4/3*np.pi*((radius_value + dr)**3 - radius_value**3)\n",
    "    density_profile220[i] = how_many_particles / shell_volume\n",
    "    i += 1\n",
    "densityprof220 = density_profile220 / density_profile220[0]"
   ]
  },
  {
   "cell_type": "code",
   "execution_count": 30,
   "id": "546dfee5",
   "metadata": {},
   "outputs": [],
   "source": [
    "전data200 = np.loadtxt(\"D:/Research/ultra-faint dwarf galaxies/dwarf 2 RT/dwarf_dm_7e8_rt_0200.txt\")\n",
    "dx200 = 전data200[:,4]\n",
    "dy200 = 전data200[:,5]\n",
    "dz200 = 전data200[:,6]\n",
    "r200 = np.sqrt(dx200**2 + dy200**2 + dz200**2) # max: 4702.072840411055, closest to 4710\n",
    "rad_array200 = np.arange(10, 4710, dr, dtype=np.int64)\n",
    "density_profile200 = np.zeros(np.size(rad_array200))\n",
    "i = 0\n",
    "for radius_value in rad_array200:\n",
    "    particles = np.where((r200 > radius_value) & (r200 < (radius_value + dr)))\n",
    "    how_many_particles = np.size(particles)\n",
    "    shell_volume = 4/3*np.pi*((radius_value + dr)**3 - radius_value**3)\n",
    "    density_profile200[i] = how_many_particles / shell_volume\n",
    "    i += 1\n",
    "densityprof200 = density_profile200 / density_profile200[0]"
   ]
  },
  {
   "cell_type": "code",
   "execution_count": 31,
   "id": "dbbe7515",
   "metadata": {},
   "outputs": [],
   "source": [
    "전data180 = np.loadtxt(\"D:/Research/ultra-faint dwarf galaxies/dwarf 2 RT/dwarf_dm_7e8_rt_0180.txt\")\n",
    "dx180 = 전data180[:,4]\n",
    "dy180 = 전data180[:,5]\n",
    "dz180 = 전data180[:,6]\n",
    "r180 = np.sqrt(dx180**2 + dy180**2 + dz180**2) # max: 3682.2283558863496, closest to 3690\n",
    "rad_array180 = np.arange(10, 3690, dr, dtype=np.int64)\n",
    "density_profile180 = np.zeros(np.size(rad_array180))\n",
    "i = 0\n",
    "for radius_value in rad_array180:\n",
    "    particles = np.where((r180 > radius_value) & (r180 < (radius_value + dr)))\n",
    "    how_many_particles = np.size(particles)\n",
    "    shell_volume = 4/3*np.pi*((radius_value + dr)**3 - radius_value**3)\n",
    "    density_profile180[i] = how_many_particles / shell_volume\n",
    "    i += 1\n",
    "densityprof180 = density_profile180 / density_profile180[0]"
   ]
  },
  {
   "cell_type": "code",
   "execution_count": 32,
   "id": "920d86a5",
   "metadata": {},
   "outputs": [
    {
     "data": {
      "text/plain": [
       "'THIS PART IS FOR DWARF 2 WITHOUT RT'"
      ]
     },
     "execution_count": 32,
     "metadata": {},
     "output_type": "execute_result"
    }
   ],
   "source": [
    "'''THIS PART IS FOR DWARF 2 WITHOUT RT'''"
   ]
  },
  {
   "cell_type": "code",
   "execution_count": 33,
   "id": "689d1962",
   "metadata": {},
   "outputs": [],
   "source": [
    "전data300_noRT = np.loadtxt(\"D:/Research/ultra-faint dwarf galaxies/dwarf 2 no RT/dwarf_dm_7e8_0300.txt\")\n",
    "dx300_noRT = 전data300_noRT[:,4]\n",
    "dy300_noRT = 전data300_noRT[:,5]\n",
    "dz300_noRT = 전data300_noRT[:,6]\n",
    "r300_noRT = np.sqrt(dx300_noRT**2 + dy300_noRT**2 + dz300_noRT**2) # max: 9751.934166119612, closest to 9760\n",
    "rad_array300_noRT = np.arange(10, 9760, dr, dtype=np.int64)\n",
    "density_profile300_noRT = np.zeros(np.size(rad_array300_noRT))\n",
    "i = 0\n",
    "for radius_value in rad_array300_noRT:\n",
    "    particles = np.where((r300_noRT > radius_value) & (r300_noRT < (radius_value + dr)))\n",
    "    how_many_particles = np.size(particles)\n",
    "    shell_volume = 4/3*np.pi*((radius_value + dr)**3 - radius_value**3)\n",
    "    density_profile300_noRT[i] = how_many_particles / shell_volume\n",
    "    i += 1\n",
    "densityprof300_noRT = density_profile300_noRT / density_profile300_noRT[0]"
   ]
  },
  {
   "cell_type": "code",
   "execution_count": 34,
   "id": "790703bc",
   "metadata": {},
   "outputs": [],
   "source": [
    "전data280_noRT = np.loadtxt(\"D:/Research/ultra-faint dwarf galaxies/dwarf 2 no RT/dwarf_dm_7e8_0280.txt\")\n",
    "dx280_noRT = 전data280_noRT[:,4]\n",
    "dy280_noRT = 전data280_noRT[:,5]\n",
    "dz280_noRT = 전data280_noRT[:,6]\n",
    "r280_noRT = np.sqrt(dx280_noRT**2 + dy280_noRT**2 + dz280_noRT**2) # max: 9018.3207832739, closest to 9020\n",
    "rad_array280_noRT = np.arange(10, 9020, dr, dtype=np.int64)\n",
    "density_profile280_noRT = np.zeros(np.size(rad_array280_noRT))\n",
    "i = 0\n",
    "for radius_value in rad_array280_noRT:\n",
    "    particles = np.where((r280_noRT > radius_value) & (r280_noRT < (radius_value + dr)))\n",
    "    how_many_particles = np.size(particles)\n",
    "    shell_volume = 4/3*np.pi*((radius_value + dr)**3 - radius_value**3)\n",
    "    density_profile280_noRT[i] = how_many_particles / shell_volume\n",
    "    i += 1\n",
    "densityprof280_noRT = density_profile280_noRT / density_profile280_noRT[0]"
   ]
  },
  {
   "cell_type": "code",
   "execution_count": 35,
   "id": "830d6674",
   "metadata": {},
   "outputs": [],
   "source": [
    "전data260_noRT = np.loadtxt(\"D:/Research/ultra-faint dwarf galaxies/dwarf 2 no RT/dwarf_dm_7e8_0260.txt\")\n",
    "dx260_noRT = 전data260_noRT[:,4]\n",
    "dy260_noRT = 전data260_noRT[:,5]\n",
    "dz260_noRT = 전data260_noRT[:,6]\n",
    "r260_noRT = np.sqrt(dx260_noRT**2 + dy260_noRT**2 + dz260_noRT**2) # max: 8170.261945947165, closest to 8180\n",
    "rad_array260_noRT = np.arange(10, 8180, dr, dtype=np.int64)\n",
    "density_profile260_noRT = np.zeros(np.size(rad_array260_noRT))\n",
    "i = 0\n",
    "for radius_value in rad_array260_noRT:\n",
    "    particles = np.where((r260_noRT > radius_value) & (r260_noRT < (radius_value + dr)))\n",
    "    how_many_particles = np.size(particles)\n",
    "    shell_volume = 4/3*np.pi*((radius_value + dr)**3 - radius_value**3)\n",
    "    density_profile260_noRT[i] = how_many_particles / shell_volume\n",
    "    i += 1\n",
    "densityprof260_noRT = density_profile260_noRT / density_profile260_noRT[0]"
   ]
  },
  {
   "cell_type": "code",
   "execution_count": 36,
   "id": "e44e6600",
   "metadata": {},
   "outputs": [],
   "source": [
    "전data240_noRT = np.loadtxt(\"D:/Research/ultra-faint dwarf galaxies/dwarf 2 no RT/dwarf_dm_7e8_0240.txt\")\n",
    "dx240_noRT = 전data240_noRT[:,4]\n",
    "dy240_noRT = 전data240_noRT[:,5]\n",
    "dz240_noRT = 전data240_noRT[:,6]\n",
    "r240_noRT = np.sqrt(dx240_noRT**2 + dy240_noRT**2 + dz240_noRT**2) # max: 6920.542657772872, closest to 6930\n",
    "rad_array240_noRT = np.arange(10, 6930, dr, dtype=np.int64)\n",
    "density_profile240_noRT = np.zeros(np.size(rad_array240_noRT))\n",
    "i = 0\n",
    "for radius_value in rad_array240_noRT:\n",
    "    particles = np.where((r240_noRT > radius_value) & (r240_noRT < (radius_value + dr)))\n",
    "    how_many_particles = np.size(particles)\n",
    "    shell_volume = 4/3*np.pi*((radius_value + dr)**3 - radius_value**3)\n",
    "    density_profile240_noRT[i] = how_many_particles / shell_volume\n",
    "    i += 1\n",
    "densityprof240_noRT = density_profile240_noRT / density_profile240_noRT[0]"
   ]
  },
  {
   "cell_type": "code",
   "execution_count": 37,
   "id": "8a64df0c",
   "metadata": {},
   "outputs": [],
   "source": [
    "전data220_noRT = np.loadtxt(\"D:/Research/ultra-faint dwarf galaxies/dwarf 2 no RT/dwarf_dm_7e8_0220.txt\")\n",
    "dx220_noRT = 전data220_noRT[:,4]\n",
    "dy220_noRT = 전data220_noRT[:,5]\n",
    "dz220_noRT = 전data220_noRT[:,6]\n",
    "r220_noRT = np.sqrt(dx220_noRT**2 + dy220_noRT**2 + dz220_noRT**2) # max: 5893.110387061997, closest to 5900\n",
    "rad_array220_noRT = np.arange(10, 5900, dr, dtype=np.int64)\n",
    "density_profile220_noRT = np.zeros(np.size(rad_array220_noRT))\n",
    "i = 0\n",
    "for radius_value in rad_array220_noRT:\n",
    "    particles = np.where((r220_noRT > radius_value) & (r220_noRT < (radius_value + dr)))\n",
    "    how_many_particles = np.size(particles)\n",
    "    shell_volume = 4/3*np.pi*((radius_value + dr)**3 - radius_value**3)\n",
    "    density_profile220_noRT[i] = how_many_particles / shell_volume\n",
    "    i += 1\n",
    "densityprof220_noRT = density_profile220_noRT / density_profile220_noRT[0]"
   ]
  },
  {
   "cell_type": "code",
   "execution_count": 38,
   "id": "1a56657e",
   "metadata": {},
   "outputs": [],
   "source": [
    "전data200_noRT = np.loadtxt(\"D:/Research/ultra-faint dwarf galaxies/dwarf 2 no RT/dwarf_dm_7e8_0200.txt\")\n",
    "dx200_noRT = 전data200_noRT[:,4]\n",
    "dy200_noRT = 전data200_noRT[:,5]\n",
    "dz200_noRT = 전data200_noRT[:,6]\n",
    "r200_noRT = np.sqrt(dx200_noRT**2 + dy200_noRT**2 + dz200_noRT**2) # max: 4790.202189413507, closest to 4800\n",
    "rad_array200_noRT = np.arange(10, 4800, dr, dtype=np.int64)\n",
    "density_profile200_noRT = np.zeros(np.size(rad_array200_noRT))\n",
    "i = 0\n",
    "for radius_value in rad_array200_noRT:\n",
    "    particles = np.where((r200_noRT > radius_value) & (r200_noRT < (radius_value + dr)))\n",
    "    how_many_particles = np.size(particles)\n",
    "    shell_volume = 4/3*np.pi*((radius_value + dr)**3 - radius_value**3)\n",
    "    density_profile200_noRT[i] = how_many_particles / shell_volume\n",
    "    i += 1\n",
    "densityprof200_noRT = density_profile200_noRT / density_profile200_noRT[0]"
   ]
  },
  {
   "cell_type": "code",
   "execution_count": 39,
   "id": "51ab6bb6",
   "metadata": {},
   "outputs": [],
   "source": [
    "전data180_noRT = np.loadtxt(\"D:/Research/ultra-faint dwarf galaxies/dwarf 2 no RT/dwarf_dm_7e8_0180.txt\")\n",
    "dx180_noRT = 전data180_noRT[:,4]\n",
    "dy180_noRT = 전data180_noRT[:,5]\n",
    "dz180_noRT = 전data180_noRT[:,6]\n",
    "r180_noRT = np.sqrt(dx180_noRT**2 + dy180_noRT**2 + dz180_noRT**2) # max: 3715.3487198606863, closest to 3720\n",
    "rad_array180_noRT = np.arange(10, 3720, dr, dtype=np.int64)\n",
    "density_profile180_noRT = np.zeros(np.size(rad_array180_noRT))\n",
    "i = 0\n",
    "for radius_value in rad_array180_noRT:\n",
    "    particles = np.where((r180_noRT > radius_value) & (r180_noRT < (radius_value + dr)))\n",
    "    how_many_particles = np.size(particles)\n",
    "    shell_volume = 4/3*np.pi*((radius_value + dr)**3 - radius_value**3)\n",
    "    density_profile180_noRT[i] = how_many_particles / shell_volume\n",
    "    i += 1\n",
    "densityprof180_noRT = density_profile180_noRT / density_profile180_noRT[0]"
   ]
  },
  {
   "cell_type": "code",
   "execution_count": 41,
   "id": "5feeb9f6",
   "metadata": {},
   "outputs": [
    {
     "ename": "ValueError",
     "evalue": "x and y must have same first dimension, but have shapes (972,) and (975,)",
     "output_type": "error",
     "traceback": [
      "\u001b[1;31m---------------------------------------------------------------------------\u001b[0m",
      "\u001b[1;31mValueError\u001b[0m                                Traceback (most recent call last)",
      "\u001b[1;32m<ipython-input-41-7f7bf2cec428>\u001b[0m in \u001b[0;36m<module>\u001b[1;34m\u001b[0m\n\u001b[0;32m      3\u001b[0m \u001b[1;31m# dwarf2_noRT.txt\u001b[0m\u001b[1;33m\u001b[0m\u001b[1;33m\u001b[0m\u001b[1;33m\u001b[0m\u001b[0m\n\u001b[0;32m      4\u001b[0m \u001b[1;33m\u001b[0m\u001b[0m\n\u001b[1;32m----> 5\u001b[1;33m \u001b[0mplt\u001b[0m\u001b[1;33m.\u001b[0m\u001b[0mplot\u001b[0m\u001b[1;33m(\u001b[0m\u001b[0mrad_array300\u001b[0m\u001b[1;33m,\u001b[0m \u001b[0mdensityprof300_noRT\u001b[0m\u001b[1;33m,\u001b[0m \u001b[0mcolor\u001b[0m\u001b[1;33m=\u001b[0m\u001b[1;33m(\u001b[0m\u001b[1;36m0.9\u001b[0m\u001b[1;33m,\u001b[0m \u001b[1;36m0.3\u001b[0m\u001b[1;33m,\u001b[0m \u001b[1;36m0.4\u001b[0m\u001b[1;33m,\u001b[0m \u001b[1;36m1\u001b[0m\u001b[1;33m)\u001b[0m\u001b[1;33m,\u001b[0m \u001b[0mlinewidth\u001b[0m\u001b[1;33m=\u001b[0m\u001b[1;36m2\u001b[0m\u001b[1;33m)\u001b[0m\u001b[1;33m\u001b[0m\u001b[1;33m\u001b[0m\u001b[0m\n\u001b[0m\u001b[0;32m      6\u001b[0m \u001b[0mplt\u001b[0m\u001b[1;33m.\u001b[0m\u001b[0mplot\u001b[0m\u001b[1;33m(\u001b[0m\u001b[0mrad_array280\u001b[0m\u001b[1;33m,\u001b[0m \u001b[0mdensityprof280_noRT\u001b[0m\u001b[1;33m,\u001b[0m \u001b[0mcolor\u001b[0m\u001b[1;33m=\u001b[0m\u001b[1;33m(\u001b[0m\u001b[1;36m0.9\u001b[0m\u001b[1;33m,\u001b[0m \u001b[1;36m0.3\u001b[0m\u001b[1;33m,\u001b[0m \u001b[1;36m0.4\u001b[0m\u001b[1;33m,\u001b[0m \u001b[1;36m0.86\u001b[0m\u001b[1;33m)\u001b[0m\u001b[1;33m,\u001b[0m \u001b[0mlinewidth\u001b[0m\u001b[1;33m=\u001b[0m\u001b[1;36m2\u001b[0m\u001b[1;33m)\u001b[0m\u001b[1;33m\u001b[0m\u001b[1;33m\u001b[0m\u001b[0m\n\u001b[0;32m      7\u001b[0m \u001b[0mplt\u001b[0m\u001b[1;33m.\u001b[0m\u001b[0mplot\u001b[0m\u001b[1;33m(\u001b[0m\u001b[0mrad_array260\u001b[0m\u001b[1;33m,\u001b[0m \u001b[0mdensityprof260_noRT\u001b[0m\u001b[1;33m,\u001b[0m \u001b[0mcolor\u001b[0m\u001b[1;33m=\u001b[0m\u001b[1;33m(\u001b[0m\u001b[1;36m0.9\u001b[0m\u001b[1;33m,\u001b[0m \u001b[1;36m0.3\u001b[0m\u001b[1;33m,\u001b[0m \u001b[1;36m0.4\u001b[0m\u001b[1;33m,\u001b[0m \u001b[1;36m0.79\u001b[0m\u001b[1;33m)\u001b[0m\u001b[1;33m,\u001b[0m \u001b[0mlinewidth\u001b[0m\u001b[1;33m=\u001b[0m\u001b[1;36m2\u001b[0m\u001b[1;33m)\u001b[0m\u001b[1;33m\u001b[0m\u001b[1;33m\u001b[0m\u001b[0m\n",
      "\u001b[1;32m~\\anaconda3\\lib\\site-packages\\matplotlib\\pyplot.py\u001b[0m in \u001b[0;36mplot\u001b[1;34m(scalex, scaley, data, *args, **kwargs)\u001b[0m\n\u001b[0;32m   2838\u001b[0m \u001b[1;33m@\u001b[0m\u001b[0m_copy_docstring_and_deprecators\u001b[0m\u001b[1;33m(\u001b[0m\u001b[0mAxes\u001b[0m\u001b[1;33m.\u001b[0m\u001b[0mplot\u001b[0m\u001b[1;33m)\u001b[0m\u001b[1;33m\u001b[0m\u001b[1;33m\u001b[0m\u001b[0m\n\u001b[0;32m   2839\u001b[0m \u001b[1;32mdef\u001b[0m \u001b[0mplot\u001b[0m\u001b[1;33m(\u001b[0m\u001b[1;33m*\u001b[0m\u001b[0margs\u001b[0m\u001b[1;33m,\u001b[0m \u001b[0mscalex\u001b[0m\u001b[1;33m=\u001b[0m\u001b[1;32mTrue\u001b[0m\u001b[1;33m,\u001b[0m \u001b[0mscaley\u001b[0m\u001b[1;33m=\u001b[0m\u001b[1;32mTrue\u001b[0m\u001b[1;33m,\u001b[0m \u001b[0mdata\u001b[0m\u001b[1;33m=\u001b[0m\u001b[1;32mNone\u001b[0m\u001b[1;33m,\u001b[0m \u001b[1;33m**\u001b[0m\u001b[0mkwargs\u001b[0m\u001b[1;33m)\u001b[0m\u001b[1;33m:\u001b[0m\u001b[1;33m\u001b[0m\u001b[1;33m\u001b[0m\u001b[0m\n\u001b[1;32m-> 2840\u001b[1;33m     return gca().plot(\n\u001b[0m\u001b[0;32m   2841\u001b[0m         \u001b[1;33m*\u001b[0m\u001b[0margs\u001b[0m\u001b[1;33m,\u001b[0m \u001b[0mscalex\u001b[0m\u001b[1;33m=\u001b[0m\u001b[0mscalex\u001b[0m\u001b[1;33m,\u001b[0m \u001b[0mscaley\u001b[0m\u001b[1;33m=\u001b[0m\u001b[0mscaley\u001b[0m\u001b[1;33m,\u001b[0m\u001b[1;33m\u001b[0m\u001b[1;33m\u001b[0m\u001b[0m\n\u001b[0;32m   2842\u001b[0m         **({\"data\": data} if data is not None else {}), **kwargs)\n",
      "\u001b[1;32m~\\anaconda3\\lib\\site-packages\\matplotlib\\axes\\_axes.py\u001b[0m in \u001b[0;36mplot\u001b[1;34m(self, scalex, scaley, data, *args, **kwargs)\u001b[0m\n\u001b[0;32m   1741\u001b[0m         \"\"\"\n\u001b[0;32m   1742\u001b[0m         \u001b[0mkwargs\u001b[0m \u001b[1;33m=\u001b[0m \u001b[0mcbook\u001b[0m\u001b[1;33m.\u001b[0m\u001b[0mnormalize_kwargs\u001b[0m\u001b[1;33m(\u001b[0m\u001b[0mkwargs\u001b[0m\u001b[1;33m,\u001b[0m \u001b[0mmlines\u001b[0m\u001b[1;33m.\u001b[0m\u001b[0mLine2D\u001b[0m\u001b[1;33m)\u001b[0m\u001b[1;33m\u001b[0m\u001b[1;33m\u001b[0m\u001b[0m\n\u001b[1;32m-> 1743\u001b[1;33m         \u001b[0mlines\u001b[0m \u001b[1;33m=\u001b[0m \u001b[1;33m[\u001b[0m\u001b[1;33m*\u001b[0m\u001b[0mself\u001b[0m\u001b[1;33m.\u001b[0m\u001b[0m_get_lines\u001b[0m\u001b[1;33m(\u001b[0m\u001b[1;33m*\u001b[0m\u001b[0margs\u001b[0m\u001b[1;33m,\u001b[0m \u001b[0mdata\u001b[0m\u001b[1;33m=\u001b[0m\u001b[0mdata\u001b[0m\u001b[1;33m,\u001b[0m \u001b[1;33m**\u001b[0m\u001b[0mkwargs\u001b[0m\u001b[1;33m)\u001b[0m\u001b[1;33m]\u001b[0m\u001b[1;33m\u001b[0m\u001b[1;33m\u001b[0m\u001b[0m\n\u001b[0m\u001b[0;32m   1744\u001b[0m         \u001b[1;32mfor\u001b[0m \u001b[0mline\u001b[0m \u001b[1;32min\u001b[0m \u001b[0mlines\u001b[0m\u001b[1;33m:\u001b[0m\u001b[1;33m\u001b[0m\u001b[1;33m\u001b[0m\u001b[0m\n\u001b[0;32m   1745\u001b[0m             \u001b[0mself\u001b[0m\u001b[1;33m.\u001b[0m\u001b[0madd_line\u001b[0m\u001b[1;33m(\u001b[0m\u001b[0mline\u001b[0m\u001b[1;33m)\u001b[0m\u001b[1;33m\u001b[0m\u001b[1;33m\u001b[0m\u001b[0m\n",
      "\u001b[1;32m~\\anaconda3\\lib\\site-packages\\matplotlib\\axes\\_base.py\u001b[0m in \u001b[0;36m__call__\u001b[1;34m(self, data, *args, **kwargs)\u001b[0m\n\u001b[0;32m    271\u001b[0m                 \u001b[0mthis\u001b[0m \u001b[1;33m+=\u001b[0m \u001b[0margs\u001b[0m\u001b[1;33m[\u001b[0m\u001b[1;36m0\u001b[0m\u001b[1;33m]\u001b[0m\u001b[1;33m,\u001b[0m\u001b[1;33m\u001b[0m\u001b[1;33m\u001b[0m\u001b[0m\n\u001b[0;32m    272\u001b[0m                 \u001b[0margs\u001b[0m \u001b[1;33m=\u001b[0m \u001b[0margs\u001b[0m\u001b[1;33m[\u001b[0m\u001b[1;36m1\u001b[0m\u001b[1;33m:\u001b[0m\u001b[1;33m]\u001b[0m\u001b[1;33m\u001b[0m\u001b[1;33m\u001b[0m\u001b[0m\n\u001b[1;32m--> 273\u001b[1;33m             \u001b[1;32myield\u001b[0m \u001b[1;32mfrom\u001b[0m \u001b[0mself\u001b[0m\u001b[1;33m.\u001b[0m\u001b[0m_plot_args\u001b[0m\u001b[1;33m(\u001b[0m\u001b[0mthis\u001b[0m\u001b[1;33m,\u001b[0m \u001b[0mkwargs\u001b[0m\u001b[1;33m)\u001b[0m\u001b[1;33m\u001b[0m\u001b[1;33m\u001b[0m\u001b[0m\n\u001b[0m\u001b[0;32m    274\u001b[0m \u001b[1;33m\u001b[0m\u001b[0m\n\u001b[0;32m    275\u001b[0m     \u001b[1;32mdef\u001b[0m \u001b[0mget_next_color\u001b[0m\u001b[1;33m(\u001b[0m\u001b[0mself\u001b[0m\u001b[1;33m)\u001b[0m\u001b[1;33m:\u001b[0m\u001b[1;33m\u001b[0m\u001b[1;33m\u001b[0m\u001b[0m\n",
      "\u001b[1;32m~\\anaconda3\\lib\\site-packages\\matplotlib\\axes\\_base.py\u001b[0m in \u001b[0;36m_plot_args\u001b[1;34m(self, tup, kwargs)\u001b[0m\n\u001b[0;32m    397\u001b[0m \u001b[1;33m\u001b[0m\u001b[0m\n\u001b[0;32m    398\u001b[0m         \u001b[1;32mif\u001b[0m \u001b[0mx\u001b[0m\u001b[1;33m.\u001b[0m\u001b[0mshape\u001b[0m\u001b[1;33m[\u001b[0m\u001b[1;36m0\u001b[0m\u001b[1;33m]\u001b[0m \u001b[1;33m!=\u001b[0m \u001b[0my\u001b[0m\u001b[1;33m.\u001b[0m\u001b[0mshape\u001b[0m\u001b[1;33m[\u001b[0m\u001b[1;36m0\u001b[0m\u001b[1;33m]\u001b[0m\u001b[1;33m:\u001b[0m\u001b[1;33m\u001b[0m\u001b[1;33m\u001b[0m\u001b[0m\n\u001b[1;32m--> 399\u001b[1;33m             raise ValueError(f\"x and y must have same first dimension, but \"\n\u001b[0m\u001b[0;32m    400\u001b[0m                              f\"have shapes {x.shape} and {y.shape}\")\n\u001b[0;32m    401\u001b[0m         \u001b[1;32mif\u001b[0m \u001b[0mx\u001b[0m\u001b[1;33m.\u001b[0m\u001b[0mndim\u001b[0m \u001b[1;33m>\u001b[0m \u001b[1;36m2\u001b[0m \u001b[1;32mor\u001b[0m \u001b[0my\u001b[0m\u001b[1;33m.\u001b[0m\u001b[0mndim\u001b[0m \u001b[1;33m>\u001b[0m \u001b[1;36m2\u001b[0m\u001b[1;33m:\u001b[0m\u001b[1;33m\u001b[0m\u001b[1;33m\u001b[0m\u001b[0m\n",
      "\u001b[1;31mValueError\u001b[0m: x and y must have same first dimension, but have shapes (972,) and (975,)"
     ]
    },
    {
     "data": {
      "image/png": "[encoded data removed]",
      "text/plain": [
       "<Figure size 936x936 with 1 Axes>"
      ]
     },
     "metadata": {
      "needs_background": "light"
     },
     "output_type": "display_data"
    }
   ],
   "source": [
    "plt.figure(figsize=(13,13))\n",
    "\n",
    "# dwarf2_noRT.txt\n",
    "\n",
    "plt.plot(rad_array300_noRT, densityprof300_noRT, color=(0.9, 0.3, 0.4, 1), linewidth=2)\n",
    "plt.plot(rad_array280_noRT, densityprof280_noRT, color=(0.9, 0.3, 0.4, 0.86), linewidth=2)\n",
    "plt.plot(rad_array260_noRT, densityprof260_noRT, color=(0.9, 0.3, 0.4, 0.79), linewidth=2)\n",
    "plt.plot(rad_array240_noRT, densityprof240_noRT, color=(0.9, 0.3, 0.4, 0.70), linewidth=2)\n",
    "plt.plot(rad_array220_noRT, densityprof220_noRT, color=(0.9, 0.3, 0.4, 0.62), linewidth=2)\n",
    "plt.plot(rad_array200_noRT, densityprof200_noRT, color=(0.9, 0.3, 0.4, 0.56), linewidth=2)\n",
    "plt.plot(rad_array180_noRT, densityprof180_noRT, color=(0.9, 0.3, 0.4, 0.48), linewidth=2)\n",
    "\n",
    "red11 = mpatches.Patch(color=(0.9, 0.3, 0.4, 1), label='z = 0.024')\n",
    "red10 = mpatches.Patch(color=(0.9, 0.3, 0.4, 0.86), label='z = 0.245')\n",
    "red9 = mpatches.Patch(color=(0.9, 0.3, 0.4, 0.79), label='z = 0.514')\n",
    "red8 = mpatches.Patch(color=(0.9, 0.3, 0.4, 0.70), label='z = 0.841')\n",
    "red7 = mpatches.Patch(color=(0.9, 0.3, 0.4, 0.62), label='z = 1.238')\n",
    "red6 = mpatches.Patch(color=(0.9, 0.3, 0.4, 0.56), label='z = 1.721')\n",
    "red5 = mpatches.Patch(color=(0.9, 0.3, 0.4, 0.48), label='z = 2.308')\n",
    "\n",
    "# dwarf2_RT.txt\n",
    "\n",
    "plt.plot(rad_array300, densityprof300, color=(0.1, 0.36, 0.9, 1), linewidth=2)\n",
    "plt.plot(rad_array280, densityprof280, color=(0.1, 0.36, 0.9, 0.86), linewidth=2)\n",
    "plt.plot(rad_array260, densityprof260, color=(0.1, 0.36, 0.9, 0.79), linewidth=2)\n",
    "plt.plot(rad_array240, densityprof240, color=(0.1, 0.36, 0.9, 0.70), linewidth=2)\n",
    "plt.plot(rad_array220, densityprof220, color=(0.1, 0.36, 0.9, 0.62), linewidth=2)\n",
    "plt.plot(rad_array200, densityprof200, color=(0.1, 0.36, 0.9, 0.56), linewidth=2)\n",
    "plt.plot(rad_array180, densityprof180, color=(0.1, 0.36, 0.9, 0.48), linewidth=2)\n",
    "\n",
    "blue11 = mpatches.Patch(color=(0.1, 0.36, 0.9, 1), label='z = 0.024')\n",
    "blue10 = mpatches.Patch(color=(0.1, 0.36, 0.9, 0.86), label='z = 0.245')\n",
    "blue9 = mpatches.Patch(color=(0.1, 0.36, 0.9, 0.79), label='z = 0.514')\n",
    "blue8 = mpatches.Patch(color=(0.1, 0.36, 0.9, 0.70), label='z = 0.841')\n",
    "blue7 = mpatches.Patch(color=(0.1, 0.36, 0.9, 0.62), label='z = 1.238')\n",
    "blue6 = mpatches.Patch(color=(0.1, 0.36, 0.9, 0.56), label='z = 1.721')\n",
    "blue5 = mpatches.Patch(color=(0.1, 0.36, 0.9, 0.48), label='z = 2.308')\n",
    "\n",
    "first_legend = plt.legend(handles=[blue11, blue10, blue9, blue8, blue7, \\\n",
    "                    blue6, blue5],loc='upper right')\n",
    "plt.gca().add_artist(first_legend)\n",
    "second_legend = plt.legend(handles=[red11, red10, red9, red8, red7, \\\n",
    "                                    red6, red5],loc='lower left')\n",
    "\n",
    "plt.xlabel('distance from center of galaxy halo (pc)', fontsize=17)\n",
    "plt.ylabel('normalized dark matter density', fontsize=17) # using LATEX here!\n",
    "plt.xticks(fontsize=14)\n",
    "plt.yticks(fontsize=14)\n",
    "plt.xlim(10,10**4.2)\n",
    "plt.xscale('log')\n",
    "plt.yscale('log')\n",
    "\n",
    "plt.title('normalized dark matter density profiles of dwarf 2, high z,\\nwith RT (blue) and without RT (red), bin size = ' \\\n",
    "          + str(dr), loc='center', fontsize=20)\n",
    "\n",
    "plt.show()"
   ]
  },
  {
   "cell_type": "code",
   "execution_count": null,
   "id": "9aeb139e",
   "metadata": {},
   "outputs": [],
   "source": []
  }
 ],
 "metadata": {
  "kernelspec": {
   "display_name": "Python 3",
   "language": "python",
   "name": "python3"
  },
  "language_info": {
   "codemirror_mode": {
    "name": "ipython",
    "version": 3
   },
   "file_extension": ".py",
   "mimetype": "text/x-python",
   "name": "python",
   "nbconvert_exporter": "python",
   "pygments_lexer": "ipython3",
   "version": "3.8.8"
  }
 },
 "nbformat": 4,
 "nbformat_minor": 5
}
