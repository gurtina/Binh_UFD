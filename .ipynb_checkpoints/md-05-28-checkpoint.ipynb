{
 "cells": [
  {
   "cell_type": "code",
   "execution_count": 3,
   "id": "969fd0c7",
   "metadata": {},
   "outputs": [],
   "source": [
    "import numpy as np\n",
    "\n",
    "import matplotlib.pyplot as plt\n",
    "\n",
    "from IPython.display import Latex\n",
    "\n",
    "%matplotlib inline\n",
    "\n",
    "from NFW import NFW"
   ]
  },
  {
   "cell_type": "code",
   "execution_count": 4,
   "id": "2b4365eb",
   "metadata": {},
   "outputs": [],
   "source": [
    "halo = NFW(1e9)"
   ]
  },
  {
   "cell_type": "code",
   "execution_count": 5,
   "id": "f1c59cc9",
   "metadata": {},
   "outputs": [
    {
     "data": {
      "text/plain": [
       "1.0"
      ]
     },
     "execution_count": 5,
     "metadata": {},
     "output_type": "execute_result"
    }
   ],
   "source": [
    "halo.Mvir/1e9"
   ]
  },
  {
   "cell_type": "code",
   "execution_count": 6,
   "id": "33f8f8f3",
   "metadata": {},
   "outputs": [
    {
     "data": {
      "text/plain": [
       "13.116699767882334"
      ]
     },
     "execution_count": 6,
     "metadata": {},
     "output_type": "execute_result"
    }
   ],
   "source": [
    "halo.v_vir()"
   ]
  },
  {
   "cell_type": "code",
   "execution_count": 7,
   "id": "7e0972e6",
   "metadata": {},
   "outputs": [
    {
     "data": {
      "text/plain": [
       "26.146813948044358"
      ]
     },
     "execution_count": 7,
     "metadata": {},
     "output_type": "execute_result"
    }
   ],
   "source": [
    "halo.r_vir()"
   ]
  },
  {
   "cell_type": "code",
   "execution_count": 8,
   "id": "61e6ab82",
   "metadata": {},
   "outputs": [
    {
     "data": {
      "text/plain": [
       "1.5795373383751166"
      ]
     },
     "execution_count": 8,
     "metadata": {},
     "output_type": "execute_result"
    }
   ],
   "source": [
    "halo.r_s()"
   ]
  },
  {
   "cell_type": "code",
   "execution_count": 9,
   "id": "274935d0",
   "metadata": {},
   "outputs": [
    {
     "data": {
      "text/plain": [
       "16.55346367116703"
      ]
     },
     "execution_count": 9,
     "metadata": {},
     "output_type": "execute_result"
    }
   ],
   "source": [
    "halo.c_vir()"
   ]
  },
  {
   "cell_type": "code",
   "execution_count": 40,
   "id": "44793849",
   "metadata": {},
   "outputs": [],
   "source": [
    "x=np.arange(1, 21, 1) #unit: kpc"
   ]
  },
  {
   "cell_type": "code",
   "execution_count": 41,
   "id": "89e608cf",
   "metadata": {},
   "outputs": [],
   "source": [
    "y=halo.rho(x)"
   ]
  },
  {
   "cell_type": "code",
   "execution_count": 48,
   "id": "b19dcb3f",
   "metadata": {},
   "outputs": [
    {
     "data": {
      "image/png": "[encoded data removed]",
      "text/plain": [
       "<Figure size 432x288 with 1 Axes>"
      ]
     },
     "metadata": {
      "needs_background": "light"
     },
     "output_type": "display_data"
    }
   ],
   "source": [
    "plt.plot(x,y)\n",
    "plt.xlabel('r (kpc)')\n",
    "plt.yscale('log')\n",
    "plt.ylabel('rho(r)')\n",
    "plt.show()"
   ]
  },
  {
   "cell_type": "code",
   "execution_count": 43,
   "id": "929956e4",
   "metadata": {},
   "outputs": [],
   "source": [
    "y=halo.mass(x)"
   ]
  },
  {
   "cell_type": "code",
   "execution_count": 47,
   "id": "790f047c",
   "metadata": {},
   "outputs": [
    {
     "data": {
      "image/png": "[encoded data removed]",
      "text/plain": [
       "<Figure size 432x288 with 1 Axes>"
      ]
     },
     "metadata": {
      "needs_background": "light"
     },
     "output_type": "display_data"
    }
   ],
   "source": [
    "plt.plot(x,y)\n",
    "plt.xlabel('r (kpc)')\n",
    "plt.yscale('log')\n",
    "plt.ylabel('mass(r)')\n",
    "plt.show()"
   ]
  },
  {
   "cell_type": "code",
   "execution_count": null,
   "id": "28f6b0ba",
   "metadata": {},
   "outputs": [],
   "source": []
  },
  {
   "cell_type": "code",
   "execution_count": null,
   "id": "f2525810",
   "metadata": {},
   "outputs": [],
   "source": []
  }
 ],
 "metadata": {
  "kernelspec": {
   "display_name": "Python 3",
   "language": "python",
   "name": "python3"
  },
  "language_info": {
   "codemirror_mode": {
    "name": "ipython",
    "version": 3
   },
   "file_extension": ".py",
   "mimetype": "text/x-python",
   "name": "python",
   "nbconvert_exporter": "python",
   "pygments_lexer": "ipython3",
   "version": "3.8.8"
  }
 },
 "nbformat": 4,
 "nbformat_minor": 5
}
