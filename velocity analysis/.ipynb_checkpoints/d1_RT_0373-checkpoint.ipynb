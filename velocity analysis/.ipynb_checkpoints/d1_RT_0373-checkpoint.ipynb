{
 "cells": [
  {
   "cell_type": "markdown",
   "id": "3674e595",
   "metadata": {},
   "source": [
    "# velocity of dwarf 1, with RT"
   ]
  },
  {
   "cell_type": "code",
   "execution_count": 1,
   "id": "ef2cc310",
   "metadata": {},
   "outputs": [],
   "source": [
    "# import modules\n",
    "import numpy as np\n",
    "\n",
    "# import plotting modules\n",
    "import matplotlib\n",
    "import matplotlib.patches as mpatches\n",
    "import matplotlib.pyplot as plt\n",
    "from matplotlib.colors import LogNorm\n",
    "%matplotlib inline\n",
    "\n",
    "from IPython.display import Latex\n",
    "\n",
    "from NFW_Z import NFW_Z\n",
    "\n",
    "%matplotlib inline"
   ]
  },
  {
   "cell_type": "code",
   "execution_count": null,
   "id": "62a9eb05",
   "metadata": {},
   "outputs": [],
   "source": [
    "dm_270 = np.loadtxt(\"D:/Research/ultra-faint dwarf galaxies/velocity/dwarf1/RT/dwarf_dm_5e8_rt_0270.txt\")\n",
    "\n",
    "dx_dm_270 = dm_270[:,4] / 1000 # converting pc to kpc\n",
    "dy_dm_270 = dm_270[:,5] / 1000 # converting pc to kpc\n",
    "dz_dm_270 = dm_270[:,6] / 1000 # converting pc to kpc\n",
    "r_dm_270 = np.sqrt(dx_dm_270**2 + dy_dm_270**2 + dz_dm_270**2)\n",
    "print(max(r_dm_270))\n",
    "\n",
    "vx_dm_270 = dm_270[:,7]\n",
    "vy_dm_270 = dm_270[:,8]\n",
    "vz_dm_270 = dm_270[:,9]\n",
    "vx_dm_COM = np.sum(vx_dm_270) / np.size(vx_dm_270)\n",
    "vy_dm_COM = np.sum(vy_dm_270) / np.size(vy_dm_270)\n",
    "vz_dm_COM = np.sum(vz_dm_270) / np.size(vz_dm_270)\n",
    "vx_dm_new = vx_dm_270 - vx_dm_COM\n",
    "vy_dm_new = vy_dm_270 - vy_dm_COM\n",
    "vz_dm_new = vz_dm_270 - vz_dm_COM\n",
    "v_dm_new = np.sqrt(vx_dm_new**2 + vy_dm_new**2 + vz_dm_new**2)"
   ]
  },
  {
   "cell_type": "code",
   "execution_count": null,
   "id": "4b67044a",
   "metadata": {},
   "outputs": [],
   "source": [
    "star_270 = np.loadtxt(\"D:/Research/ultra-faint dwarf galaxies/velocity/dwarf1/RT/dwarf_star_5e8_rt_0270.txt\")\n",
    "\n",
    "dx_star_270 = star_270[:,4] / 1000 # converting pc to kpc\n",
    "dy_star_270 = star_270[:,5] / 1000 # converting pc to kpc\n",
    "dz_star_270 = star_270[:,6] / 1000 # converting pc to kpc\n",
    "r_star_270 = np.sqrt(dx_star_270**2 + dy_star_270**2 + dz_star_270**2)\n",
    "\n",
    "vx_star_270 = star_270[:,7]\n",
    "vy_star_270 = star_270[:,8]\n",
    "vz_star_270 = star_270[:,9]\n",
    "vx_star_COM = np.sum(vx_star_270) / np.size(vx_star_270)\n",
    "vy_star_COM = np.sum(vy_star_270) / np.size(vy_star_270)\n",
    "vz_star_COM = np.sum(vz_star_270) / np.size(vz_star_270)\n",
    "vx_star_new = vx_star_270 - vx_star_COM\n",
    "vy_star_new = vy_star_270 - vy_star_COM\n",
    "vz_star_new = vz_star_270 - vz_star_COM\n",
    "v_star_new = np.sqrt(vx_star_new**2 + vy_star_new**2 + vz_star_new**2)"
   ]
  },
  {
   "cell_type": "markdown",
   "id": "9efa2fbd",
   "metadata": {},
   "source": [
    "## CHAPTER 1:\n",
    "## Speed of dark matter & star particles with respect to distance from dwarf center"
   ]
  },
  {
   "cell_type": "code",
   "execution_count": null,
   "id": "39c30270",
   "metadata": {},
   "outputs": [],
   "source": [
    "'''Generate a radius array to work by later. unit: kpc'''\n",
    "\n",
    "radius_array = np.arange(0.01, 10.30, 0.02)"
   ]
  },
  {
   "cell_type": "code",
   "execution_count": null,
   "id": "1927f841",
   "metadata": {
    "scrolled": false
   },
   "outputs": [],
   "source": [
    "fig, ax = plt.subplots(figsize=[12, 10])\n",
    "\n",
    "plt.hist2d(r_dm_270, v_dm_new, bins=500, cmap='viridis')\n",
    "cbar = plt.colorbar()\n",
    "cbar.set_label(label='dark matter particle density (number of particles/bin size)', size=17)\n",
    "cbar.ax.tick_params(labelsize=15)\n",
    "\n",
    "plt.scatter(r_star_270, v_star_new, 25, color='red', label='star particle')\n",
    "\n",
    "plt.xlabel('distance from dwarf center (kpc)', fontsize=17)\n",
    "plt.ylabel('velocity (km/s)', fontsize=17) # using LATEX here!\n",
    "plt.title('speed of particle with respect to distance\\nfrom dwarf center, dwarf 1, z = 0.373, with RT', loc='center', fontsize=17)\n",
    "plt.xticks(fontsize=15)\n",
    "plt.yticks(fontsize=15)\n",
    "plt.legend(loc='upper right', fontsize=17)\n",
    "\n",
    "plt.show()"
   ]
  },
  {
   "cell_type": "markdown",
   "id": "1fa5643b",
   "metadata": {},
   "source": [
    "## CHAPTER 2 \n",
    "## Mean velocity and velocity dispersion profiles of dark matter particles"
   ]
  },
  {
   "cell_type": "code",
   "execution_count": null,
   "id": "4354c7b1",
   "metadata": {},
   "outputs": [],
   "source": [
    "bin_size = 0.02"
   ]
  },
  {
   "cell_type": "code",
   "execution_count": null,
   "id": "346bbe3b",
   "metadata": {},
   "outputs": [],
   "source": [
    "'''Compute the mean velocity in spherical volumes, \n",
    "along with the corresponding standard deviation.'''\n",
    "\n",
    "mean_vx = np.zeros(np.size(radius_array))\n",
    "mean_vy = np.zeros(np.size(radius_array))\n",
    "mean_vz = np.zeros(np.size(radius_array))\n",
    "\n",
    "sigma_vx = np.zeros(np.size(radius_array))\n",
    "sigma_vy = np.zeros(np.size(radius_array))\n",
    "sigma_vz = np.zeros(np.size(radius_array))\n",
    "\n",
    "h = 0\n",
    "\n",
    "for radius_value in radius_array:\n",
    "    location = np.where((r_dm_270 < (radius_value + bin_size)))\n",
    "    vx_values = vx_dm_new[location]\n",
    "    vy_values = vy_dm_new[location]\n",
    "    vz_values = vz_dm_new[location]\n",
    "    vx_array = np.array(vx_values)\n",
    "    vy_array = np.array(vy_values)\n",
    "    vz_array = np.array(vz_values)\n",
    "    mean_vx[h] = np.mean(vx_array)\n",
    "    mean_vy[h] = np.mean(vy_array)\n",
    "    mean_vz[h] = np.mean(vz_array)\n",
    "    sigma_vx[h] = np.std(vx_array)\n",
    "    sigma_vy[h] = np.std(vy_array)\n",
    "    sigma_vz[h] = np.std(vz_array)\n",
    "    h += 1"
   ]
  },
  {
   "cell_type": "code",
   "execution_count": null,
   "id": "d6c2f8c8",
   "metadata": {},
   "outputs": [],
   "source": [
    "fig, ax = plt.subplots(figsize=[10, 10])\n",
    "\n",
    "plt.plot(radius_array, mean_vx, linewidth=4, color='#083D77', label='$\\mu_{v_x}$')\n",
    "plt.plot(radius_array, sigma_vx, linewidth=3, linestyle='-.', color='#083D77', label='$\\sigma_{v_x}$')\n",
    "plt.plot(radius_array, mean_vy, linewidth=4, color='#DA4167', label='$\\mu_{v_y}$')\n",
    "plt.plot(radius_array, sigma_vy, linewidth=3, linestyle='-.', color='#DA4167', label='$\\sigma_{v_y}$')\n",
    "plt.plot(radius_array, mean_vz, linewidth=4, color='#F4D35E', label='$\\mu_{v_z}$')\n",
    "plt.plot(radius_array, sigma_vz, linewidth=3, linestyle='-.', color='#F4D35E', label='$\\sigma_{v_z}$')\n",
    "\n",
    "plt.xlabel('distance from dwarf center (kpc)', fontsize=17)\n",
    "plt.ylabel('velocity (km/s)', fontsize=17) # using LATEX here!\n",
    "plt.xlim(0, 5)\n",
    "plt.title('mean velocity and velocity dispersion profiles\\nof dark matter particles, dwarf 1, z = 0.373, with RT', loc='center', fontsize=17)\n",
    "plt.xticks(fontsize=15)\n",
    "plt.yticks(fontsize=15)\n",
    "plt.legend(loc='upper right', fontsize=16, bbox_to_anchor=(1.18, 1.01), markerscale=2)\n",
    "\n",
    "plt.show()"
   ]
  },
  {
   "cell_type": "markdown",
   "id": "4c47bf1c",
   "metadata": {},
   "source": [
    "## CHAPTER 3 \n",
    "## Mean velocity and velocity dispersion profiles of star particles"
   ]
  },
  {
   "cell_type": "code",
   "execution_count": null,
   "id": "6f948837",
   "metadata": {},
   "outputs": [],
   "source": [
    "'''Compute the mean velocity in spherical volumes, \n",
    "along with the corresponding standard deviation.'''\n",
    "\n",
    "bin_size = 0.02\n",
    "\n",
    "mean_star_vx = np.zeros(np.size(radius_array))\n",
    "mean_star_vy = np.zeros(np.size(radius_array))\n",
    "mean_star_vz = np.zeros(np.size(radius_array))\n",
    "\n",
    "sigma_star_vx = np.zeros(np.size(radius_array))\n",
    "sigma_star_vy = np.zeros(np.size(radius_array))\n",
    "sigma_star_vz = np.zeros(np.size(radius_array))\n",
    "\n",
    "j = 0\n",
    "\n",
    "for radius_value in radius_array:\n",
    "    location = np.where((r_star_270 < (radius_value + bin_size)))\n",
    "    vx_values = vx_star_new[location]\n",
    "    vy_values = vy_star_new[location]\n",
    "    vz_values = vz_star_new[location]\n",
    "    vx_array = np.array(vx_values)\n",
    "    vy_array = np.array(vy_values)\n",
    "    vz_array = np.array(vz_values)\n",
    "    mean_star_vx[j] = np.mean(vx_array)\n",
    "    mean_star_vy[j] = np.mean(vy_array)\n",
    "    mean_star_vz[j] = np.mean(vz_array)\n",
    "    sigma_star_vx[j] = np.std(vx_array)\n",
    "    sigma_star_vy[j] = np.std(vy_array)\n",
    "    sigma_star_vz[j] = np.std(vz_array)\n",
    "    j += 1"
   ]
  },
  {
   "cell_type": "code",
   "execution_count": null,
   "id": "1d6a2131",
   "metadata": {},
   "outputs": [],
   "source": [
    "fig, ax = plt.subplots(figsize=[10, 10])\n",
    "\n",
    "plt.plot(radius_array, mean_star_vx, linewidth=4, color='#083D77', label='$\\mu_{v_x}$')\n",
    "plt.plot(radius_array, sigma_star_vx, linewidth=3, linestyle='-.', color='#083D77', label='$\\sigma_{v_x}$')\n",
    "plt.plot(radius_array, mean_star_vy, linewidth=4, color='#DA4167', label='$\\mu_{v_y}$')\n",
    "plt.plot(radius_array, sigma_star_vy, linewidth=3, linestyle='-.', color='#DA4167', label='$\\sigma_{v_y}$')\n",
    "plt.plot(radius_array, mean_star_vz, linewidth=4, color='#F4D35E', label='$\\mu_{v_z}$')\n",
    "plt.plot(radius_array, sigma_star_vz, linewidth=3, linestyle='-.', color='#F4D35E', label='$\\sigma_{v_z}$')\n",
    "\n",
    "plt.xlabel('distance from dwarf center (kpc)', fontsize=17)\n",
    "plt.ylabel('velocity (km/s)', fontsize=17) # using LATEX here!\n",
    "plt.xlim(0,5)\n",
    "plt.title('mean velocity and velocity dispersion profiles\\nof star particles, dwarf 1, z = 0.373, with RT', loc='center', fontsize=17)\n",
    "plt.xticks(fontsize=15)\n",
    "plt.yticks(fontsize=15)\n",
    "plt.legend(loc='upper right', fontsize=16, bbox_to_anchor=(1.18, 1.01), markerscale=2)\n",
    "\n",
    "plt.show()"
   ]
  },
  {
   "cell_type": "markdown",
   "id": "e816db2a",
   "metadata": {},
   "source": [
    "# CHAPTER 4 \n",
    "## Mass profile of stars only. At which radius is the mass enclosed 1/2 of the total mass in stars?"
   ]
  },
  {
   "cell_type": "code",
   "execution_count": null,
   "id": "68388c70",
   "metadata": {},
   "outputs": [],
   "source": [
    "'''Read in the star particle mass info.'''\n",
    "\n",
    "star_mass_270 = star_270[:,11]"
   ]
  },
  {
   "cell_type": "code",
   "execution_count": null,
   "id": "886d70a8",
   "metadata": {},
   "outputs": [],
   "source": [
    "'''Generate the mass profile.'''\n",
    "\n",
    "bin_size = 0.02\n",
    "\n",
    "mass_prof_stars = np.zeros(np.size(radius_array))\n",
    "h = 0\n",
    "for radius_value in radius_array:\n",
    "    particles = np.where((r_star_270 < (radius_value + bin_size)))\n",
    "    masses_in_here = np.sum(star_mass_270[particles])\n",
    "    mass_prof_stars[h] = masses_in_here\n",
    "    h += 1"
   ]
  },
  {
   "cell_type": "code",
   "execution_count": null,
   "id": "3b807813",
   "metadata": {},
   "outputs": [],
   "source": [
    "'''Where is the mass enclosed closest to 1/2 of the total star particle mass?'''\n",
    "\n",
    "M_tot = mass_prof_stars[np.size(mass_prof_stars) - 1]\n",
    "M_half = (1/2) * M_tot\n",
    "\n",
    "print(M_half)\n",
    "\n",
    "closest = (np.abs(mass_prof_stars - M_half)).argmin()\n",
    "r_half = radius_array[closest]\n",
    "\n",
    "Re = r_half * (3/4)\n",
    "print(Re)\n",
    "\n",
    "closest_Re = (np.abs(radius_array - Re)).argmin()\n",
    "Re_mass = mass_prof_stars[closest_Re]\n",
    "\n",
    "print(Re_mass)"
   ]
  },
  {
   "cell_type": "code",
   "execution_count": null,
   "id": "64f6898a",
   "metadata": {},
   "outputs": [],
   "source": [
    "stdev_x = np.zeros(np.size(radius_array))\n",
    "stdev_y = np.zeros(np.size(radius_array))\n",
    "stdev_z = np.zeros(np.size(radius_array))\n",
    "\n",
    "u = 0\n",
    "bin_size = 0.02\n",
    "\n",
    "def weighted_mean(v, mass):\n",
    "    return np.sum(v * mass) / np.sum(mass)\n",
    "\n",
    "def weighted_stdev(v, mass, v_mean):\n",
    "    unsquared = (np.sum(mass * (v - v_mean)**2)) / np.sum(mass)\n",
    "    return np.sqrt(unsquared)\n",
    "\n",
    "for radius_value in radius_array:\n",
    "    where = np.where((r_star_270 < (radius_value + bin_size)))\n",
    "    \n",
    "    vx = vx_star_new[where]\n",
    "    vy = vy_star_new[where]\n",
    "    vz = vz_star_new[where]\n",
    "\n",
    "    mass_in_here = star_mass_270[where]\n",
    "\n",
    "    weighted_mean_vx = weighted_mean(vx, mass_in_here)\n",
    "    weighted_mean_vy = weighted_mean(vy, mass_in_here)\n",
    "    weighted_mean_vz = weighted_mean(vz, mass_in_here)\n",
    "    \n",
    "    stdev_x[u] = weighted_stdev(vx, mass_in_here, weighted_mean_vx)\n",
    "    stdev_y[u] = weighted_stdev(vy, mass_in_here, weighted_mean_vy)\n",
    "    stdev_z[u] = weighted_stdev(vz, mass_in_here, weighted_mean_vz)\n",
    "    \n",
    "    u += 1"
   ]
  },
  {
   "cell_type": "code",
   "execution_count": null,
   "id": "4e74019e",
   "metadata": {},
   "outputs": [],
   "source": [
    "fig, ax = plt.subplots(figsize=[10, 10])\n",
    "\n",
    "plt.plot(radius_array, mass_prof_stars, 'maroon', linewidth=2)\n",
    "\n",
    "plt.axvline(r_half, color='hotpink', linewidth=2)\n",
    "\n",
    "plt.xlabel('distance from dwarf center (kpc)', fontsize=17)\n",
    "plt.ylabel('star mass profile (M$_\\odot$)', fontsize=17) # using LATEX here!\n",
    "plt.xlim(0,2)\n",
    "#plt.title('mass profile of only the stars\\nin dwarf 1, z = 0.130, with RT', loc='center', fontsize=17)\n",
    "plt.text(r_half + 0.1, 3000, '''$r_{half}$ = ''' + str(round(r_half, 3)) + ''' kpc''', fontsize=18, color='hotpink')\n",
    "plt.xticks(fontsize=15)\n",
    "plt.yticks(fontsize=15)\n",
    "\n",
    "plt.show()"
   ]
  },
  {
   "cell_type": "code",
   "execution_count": null,
   "id": "09357a52",
   "metadata": {},
   "outputs": [],
   "source": [
    "fig, ax = plt.subplots(figsize=[10, 10])\n",
    "\n",
    "#plt.plot(radius_array, mean_vx, linewidth=4, color='#083D77', label='$\\mu_{v_x}$')\n",
    "plt.plot(radius_array, stdev_x, linewidth=3, linestyle='-.', color='#083D77', label='$\\sigma_{v_x}$')\n",
    "#plt.plot(radius_array, mean_vy, linewidth=4, color='#DA4167', label='$\\mu_{v_y}$')\n",
    "plt.plot(radius_array, stdev_y, linewidth=3, linestyle='-.', color='#DA4167', label='$\\sigma_{v_y}$')\n",
    "#plt.plot(radius_array, mean_vz, linewidth=4, color='#F4D35E', label='$\\mu_{v_z}$')\n",
    "plt.plot(radius_array, stdev_z, linewidth=3, linestyle='-.', color='#F4D35E', label='$\\sigma_{v_z}$')\n",
    "\n",
    "plt.axvline(r_half, color='hotpink', linewidth=2)\n",
    "plt.text(r_half + 0.1, 2, '''$r_{half}$ = ''' + str(round(r_half, 3)) + ''' kpc''', fontsize=18, color='hotpink')\n",
    "\n",
    "plt.xlabel('distance from dwarf center (kpc)', fontsize=17)\n",
    "plt.ylabel('velocity (km/s)', fontsize=17) # using LATEX here!\n",
    "plt.xlim(0, 5)\n",
    "plt.title('mean velocity and velocity dispersion profiles\\nof dark matter particles, dwarf 1, z = 0.373, with RT', loc='center', fontsize=17)\n",
    "plt.xticks(fontsize=15)\n",
    "plt.yticks(fontsize=15)\n",
    "plt.legend(loc='center right', fontsize=18, markerscale=2)\n",
    "\n",
    "plt.show()"
   ]
  },
  {
   "cell_type": "markdown",
   "id": "d0bdf4c3",
   "metadata": {},
   "source": [
    "# CHAPTER 5\n",
    "## As inferred from the velocity dispersion, find the mass enclosed within r<sub>half<sub>"
   ]
  },
  {
   "cell_type": "code",
   "execution_count": null,
   "id": "38ef5db8",
   "metadata": {},
   "outputs": [],
   "source": [
    "'''Generate the mass profile from the dark matter particles.'''\n",
    "\n",
    "mass_prof_dm = np.zeros(np.size(radius_array))\n",
    "h = 0\n",
    "for radius_value in radius_array:\n",
    "    particles = np.where((r_dm_270 < (radius_value + bin_size)))\n",
    "    how_many_particles = np.size(particles)\n",
    "    mass_prof_dm[h] = how_many_particles * 500\n",
    "    h += 1"
   ]
  },
  {
   "cell_type": "code",
   "execution_count": null,
   "id": "4eba37e4",
   "metadata": {},
   "outputs": [],
   "source": [
    "'''Find the velocity dispersion of the star profiles within r_half.'''\n",
    "\n",
    "sigma_star_vx_half = stdev_x[closest]\n",
    "sigma_star_vy_half = stdev_y[closest]\n",
    "sigma_star_vz_half = stdev_z[closest]"
   ]
  },
  {
   "cell_type": "code",
   "execution_count": null,
   "id": "9866c391",
   "metadata": {},
   "outputs": [],
   "source": [
    "G = 4.3009e-3 # pc*(km/s)^2 / Msun\n",
    "M_real = mass_prof_dm[closest]\n",
    "\n",
    "M_wolf = lambda sigma : 3 * (sigma)**2 * (r_half*1000) / G\n",
    "\n",
    "M_half_x_wolf = M_wolf(sigma_star_vx_half)\n",
    "M_half_y_wolf = M_wolf(sigma_star_vy_half)\n",
    "M_half_z_wolf = M_wolf(sigma_star_vz_half)\n",
    "\n",
    "M_ratio_x = M_half_x_wolf / M_real\n",
    "M_ratio_y = M_half_y_wolf / M_real\n",
    "M_ratio_z = M_half_z_wolf / M_real\n",
    "\n",
    "print(mass_prof_dm[closest])\n",
    "print(M_half_x_wolf)\n",
    "print(M_half_y_wolf)\n",
    "print(M_half_z_wolf)"
   ]
  },
  {
   "cell_type": "markdown",
   "id": "bc9049d1",
   "metadata": {},
   "source": [
    "# CHAPTER 6\n",
    "## Figuring out a M<sub>wolf</sub> function"
   ]
  },
  {
   "cell_type": "code",
   "execution_count": null,
   "id": "f8096326",
   "metadata": {},
   "outputs": [],
   "source": [
    "def Wolf_mass(r, sigma):\n",
    "    M_wolf = 3 * (sigma)**2 * (r*1000) / G\n",
    "    return M_wolf"
   ]
  },
  {
   "cell_type": "code",
   "execution_count": null,
   "id": "b18a7cbd",
   "metadata": {},
   "outputs": [],
   "source": [
    "mass_profile = np.zeros(np.size(radius_array))\n",
    "h = 0\n",
    "for radius_value in radius_array:\n",
    "    particles = np.where((r_dm_270 < (radius_value + 0.02)))\n",
    "    how_many_particles = np.size(particles)\n",
    "    mass_profile[h] = how_many_particles * 500\n",
    "    h += 1\n",
    "\n",
    "plt.figure(figsize=(10,10))\n",
    "\n",
    "plt.xlabel('distance from galactic center (kpc)', fontsize=17)\n",
    "plt.ylabel('mass (M$_\\odot$)', fontsize=17)\n",
    "plt.xticks(fontsize=14)\n",
    "plt.yticks(fontsize=14)\n",
    "\n",
    "plt.plot(radius_array, mass_profile, color='#3185FC', linewidth=2, label=\"dark matter mass profile\")\n",
    "plt.plot(radius_array, Wolf_mass(radius_array, sigma_star_vx_half), color='#083D77', label=\"M$_{Wolf}$ from $\\sigma_{v_x}$\")\n",
    "plt.plot(radius_array, Wolf_mass(radius_array, sigma_star_vy_half), color='#DA4167', label=\"M$_{Wolf}$ from $\\sigma_{v_y}$\")\n",
    "plt.plot(radius_array, Wolf_mass(radius_array, sigma_star_vz_half), color='#F4D35E', label=\"M$_{Wolf}$ from $\\sigma_{v_z}$\")\n",
    "\n",
    "plt.axvline(r_half, color='hotpink', linewidth=2)\n",
    "plt.text(r_half - 0.041, 5*1e6, '''$r_{half}$ = ''' + str(round(r_half, 3)) + ''' kpc''', fontsize=18, color='hotpink')\n",
    "\n",
    "#plt.xlim(0, 11.3)\n",
    "plt.xlim(0, 0.16)\n",
    "plt.ylim(0, 0.7e7)\n",
    "plt.xticks(fontsize=15)\n",
    "plt.yticks(fontsize=15)\n",
    "plt.title('dwarf 1, RT', fontsize=20)\n",
    "plt.legend(loc='upper left', fontsize=16, markerscale=2)\n",
    "\n",
    "#plt.xscale('log')\n",
    "#plt.yscale('log')   \n",
    "\n",
    "plt.show()"
   ]
  },
  {
   "cell_type": "code",
   "execution_count": null,
   "id": "d89a76eb",
   "metadata": {},
   "outputs": [],
   "source": [
    "'''Find the velocity dispersion of the star within Re.'''\n",
    "\n",
    "sigma_star_vx_Re = stdev_x[closest_Re]\n",
    "sigma_star_vy_Re = stdev_y[closest_Re]\n",
    "sigma_star_vz_Re = stdev_z[closest_Re]\n",
    "\n",
    "'''Find the stellar mass enclosed within Re.'''\n",
    "\n",
    "mass_in_Re = mass_prof_stars[closest_Re]\n",
    "\n",
    "print(np.array([sigma_star_vx_Re, sigma_star_vy_Re, sigma_star_vz_Re]), mass_in_Re)"
   ]
  }
 ],
 "metadata": {
  "kernelspec": {
   "display_name": "Python 3",
   "language": "python",
   "name": "python3"
  },
  "language_info": {
   "codemirror_mode": {
    "name": "ipython",
    "version": 3
   },
   "file_extension": ".py",
   "mimetype": "text/x-python",
   "name": "python",
   "nbconvert_exporter": "python",
   "pygments_lexer": "ipython3",
   "version": "3.8.8"
  }
 },
 "nbformat": 4,
 "nbformat_minor": 5
}
