{
 "cells": [
  {
   "cell_type": "code",
   "execution_count": 1,
   "metadata": {},
   "outputs": [],
   "source": [
    "# import modules\n",
    "import numpy as np\n",
    "\n",
    "# import plotting modules\n",
    "import matplotlib\n",
    "import matplotlib.patches as mpatches\n",
    "import matplotlib.pyplot as plt\n",
    "from matplotlib.colors import LogNorm\n",
    "%matplotlib inline\n",
    "\n",
    "from IPython.display import Latex\n",
    "\n",
    "\n",
    "%matplotlib inline"
   ]
  },
  {
   "cell_type": "code",
   "execution_count": 2,
   "metadata": {},
   "outputs": [],
   "source": [
    "def find_COM(r_vir, star_mass, x, y, z):\n",
    "    i_array = np.array([])\n",
    "    \n",
    "    x_in_rvir = np.array([])\n",
    "    y_in_rvir = np.array([])\n",
    "    z_in_rvir = np.array([])\n",
    "    sm_in_rvir = np.array([])\n",
    "    \n",
    "    r = np.sqrt(x**2 + y**2 + z**2)\n",
    "    for i in range(0, np.size(star_mass) - 1):\n",
    "        if r[i] <= r_vir: \n",
    "            i_array = np.append(i_array, i)\n",
    "\n",
    "    for i in i_array:\n",
    "        sm_in_rvir = np.append(sm_in_rvir, star_mass[int(i)])\n",
    "        x_in_rvir = np.append(x_in_rvir, x[int(i)])\n",
    "        y_in_rvir = np.append(y_in_rvir, y[int(i)])\n",
    "        z_in_rvir = np.append(z_in_rvir, z[int(i)])\n",
    "                        \n",
    "    COM_x = np.sum(x_in_rvir * sm_in_rvir) / np.sum(sm_in_rvir)\n",
    "    COM_y = np.sum(y_in_rvir * sm_in_rvir) / np.sum(sm_in_rvir)\n",
    "    COM_z = np.sum(z_in_rvir * sm_in_rvir) / np.sum(sm_in_rvir)\n",
    "\n",
    "    return COM_x, COM_y, COM_z"
   ]
  },
  {
   "cell_type": "code",
   "execution_count": null,
   "metadata": {},
   "outputs": [],
   "source": [
    "def find_COM2(r_vir, star_mass, x, y, z):\n",
    "    # Function to find the center of mass given:\n",
    "    # Inputs:\n",
    "    #.    r_vir:  the virial radius of the host in kpc\n",
    "    #    star_mass: an array of stellar mass per particle in Msun\n",
    "    #     x, y, z :  arrays of positions for stellar particle in kpc\n",
    "    # Returns:\n",
    "    #     Array with the COM x,y,z coordinates in kpc \n",
    "    \n",
    "    \n",
    "    \n",
    "    # Determine the 3D radius of each stellar particle from the presumed DM center of mass (0,0,0). \n",
    "    r = np.sqrt(x**2 + y**2 + z**2)\n",
    "    \n",
    "    # identify the indices for particles that have r < rvir (particles within the boundary of the dwarf halo)\n",
    "    idx = np.where(r < r_vir)\n",
    "    \n",
    "    # select those particles within r_vir and organize new arrays for their x, y, z components\n",
    "    x_in_rvir = x[idx[0]]\n",
    "    y_in_rvir = y[idx[0]]\n",
    "    z_in_rvir = z[idx[0]]\n",
    "    \n",
    "    \n",
    "    # Determine the COM per x,y,z component \n",
    "    COM_x = np.sum(x_in_rvir * sm_in_rvir[idx[0]]) / np.sum(sm_in_rvir[idx[0]])\n",
    "    COM_y = np.sum(y_in_rvir * sm_in_rvir[idx[0]]) / np.sum(sm_in_rvir[idx[0]])\n",
    "    COM_z = np.sum(z_in_rvir * sm_in_rvir[idx[0]]) / np.sum(sm_in_rvir[idx[0]])\n",
    "    \n",
    "    \n",
    "    # return the COM per x, y, z components\n",
    "    return COM_x, COM_y, COM_z\n",
    "    \n",
    "    "
   ]
  },
  {
   "cell_type": "code",
   "execution_count": null,
   "metadata": {},
   "outputs": [],
   "source": [
    "def find_COM3(r_vir, star_mass, x, y, z):\n",
    "    # Function to find the center of mass given:\n",
    "    # Inputs:\n",
    "    #.    r_vir:  the virial radius of the host in kpc\n",
    "    #    star_mass: an array of stellar mass per particle in Msun\n",
    "    #     x, y, z :  arrays of positions for stellar particle in kpc\n",
    "    # Returns:\n",
    "    #     Array with the COM x,y,z coordinates in kpc \n",
    "    \n",
    "    \n",
    "    \n",
    "    # Determine the 3D radius of each stellar particle from the presumed DM center of mass (0,0,0). \n",
    "    r = np.sqrt(x**2 + y**2 + z**2)\n",
    "\n",
    "    \n",
    "    # Determine the COM per x,y,z component \n",
    "    COM_x = np.sum(x[r<r_vir] * sm_in_rvir[r<r_vir]) / np.sum(sm_in_rvir[r<r_vir])\n",
    "    COM_y = np.sum(y[r<r_vir] * sm_in_rvir[r<r_vir]) / np.sum(sm_in_rvir[r<r_vir])\n",
    "    COM_z = np.sum(z[r<r_vir] * sm_in_rvir[r<r_vir]) / np.sum(sm_in_rvir[r<r_vir])\n",
    "    \n",
    "    \n",
    "    # return the COM per x, y, z components\n",
    "    return COM_x, COM_y, COM_z\n",
    "    "
   ]
  },
  {
   "cell_type": "code",
   "execution_count": 7,
   "metadata": {},
   "outputs": [],
   "source": [
    "a = np.array([10,12,13,14])\n",
    "b = np.array([5,6,7,8])"
   ]
  },
  {
   "cell_type": "code",
   "execution_count": 8,
   "metadata": {},
   "outputs": [
    {
     "name": "stdout",
     "output_type": "stream",
     "text": [
      "[12 13 14]\n"
     ]
    }
   ],
   "source": [
    "print(a[b>5])"
   ]
  },
  {
   "cell_type": "code",
   "execution_count": null,
   "metadata": {},
   "outputs": [],
   "source": []
  }
 ],
 "metadata": {
  "kernelspec": {
   "display_name": "Python 3",
   "language": "python",
   "name": "python3"
  },
  "language_info": {
   "codemirror_mode": {
    "name": "ipython",
    "version": 3
   },
   "file_extension": ".py",
   "mimetype": "text/x-python",
   "name": "python",
   "nbconvert_exporter": "python",
   "pygments_lexer": "ipython3",
   "version": "3.7.6"
  }
 },
 "nbformat": 4,
 "nbformat_minor": 4
}
