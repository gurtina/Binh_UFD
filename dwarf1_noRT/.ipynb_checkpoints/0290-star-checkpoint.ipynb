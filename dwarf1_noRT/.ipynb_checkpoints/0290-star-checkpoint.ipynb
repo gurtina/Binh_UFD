{
 "cells": [
  {
   "cell_type": "code",
   "execution_count": 48,
   "id": "0bab93d3",
   "metadata": {},
   "outputs": [],
   "source": [
    "# import modules\n",
    "import numpy as np\n",
    "\n",
    "# import plotting modules\n",
    "import matplotlib\n",
    "import matplotlib.patches as mpatches\n",
    "import matplotlib.pyplot as plt\n",
    "from matplotlib.colors import LogNorm\n",
    "%matplotlib inline\n",
    "\n",
    "from IPython.display import Latex\n",
    "\n",
    "%matplotlib inline\n",
    "\n",
    "from NFW import NFW"
   ]
  },
  {
   "cell_type": "code",
   "execution_count": 49,
   "id": "564952c1",
   "metadata": {},
   "outputs": [],
   "source": [
    "전data290 = np.loadtxt(\"D:/Research/ultra-faint dwarf galaxies/dwarf_star_5e8_0290.txt\")\n",
    "\n",
    "# 전 is the Hangul character for the surname Jeon of the data gatherer!\n",
    "# it's just my linguistics side being quirky and I'm glad Jupyter Notebook supports Hangul characters like this!\n",
    "\n",
    "dx290 = 전data290[:,4]\n",
    "# collect the 4th element of each row in the array into a massive array\n",
    "\n",
    "dy290 = 전data290[:,5]\n",
    "# collect the 5th element of each row in the array into a massive array\n",
    "\n",
    "dz290 = 전data290[:,6]\n",
    "# collect the 6th element of each row in the array into a massive array"
   ]
  },
  {
   "cell_type": "code",
   "execution_count": 50,
   "id": "62b6f4eb",
   "metadata": {},
   "outputs": [],
   "source": [
    "# Code for plotting contours\n",
    "#from https://gist.github.com/adrn/3993992\n",
    "\n",
    "import scipy.optimize as so\n",
    "\n",
    "def find_confidence_interval(x, pdf, confidence_level):\n",
    "    return pdf[pdf > x].sum() - confidence_level\n",
    "\n",
    "#https://book.pythontips.com/en/latest/args_and_kwargs.html\n",
    "def density_contour(xdata, ydata, nbins_x, nbins_y, ax=None, **contour_kwargs):\n",
    "    \"\"\" Create a density contour plot.\n",
    "    Parameters\n",
    "    ----------\n",
    "    xdata : numpy.ndarray\n",
    "    ydata : numpy.ndarray\n",
    "    nbins_x : int\n",
    "        Number of bins along x dimension\n",
    "    nbins_y : int\n",
    "        Number of bins along y dimension\n",
    "    ax : matplotlib.Axes (optional)\n",
    "        If supplied, plot the contour to this axis. Otherwise, open a new figure\n",
    "    contour_kwargs : dict\n",
    "        kwargs to be passed to pyplot.contour()\n",
    "        \n",
    "    Example Usage\n",
    "    -------------\n",
    "     density_contour(x pos, y pos, contour res, contour res, axis, colors for contours)\n",
    "     e.g.:\n",
    "     density_contour(xD, yD, 80, 80, ax=ax, colors=['red','orange', 'yellow', 'orange', 'yellow'])\n",
    "\n",
    "    \"\"\"\n",
    "\n",
    "    H, xedges, yedges = np.histogram2d(xdata, ydata, bins=(nbins_x,nbins_y), normed=True)\n",
    "    x_bin_sizes = (xedges[1:] - xedges[:-1]).reshape((1,nbins_x))\n",
    "    y_bin_sizes = (yedges[1:] - yedges[:-1]).reshape((nbins_y,1))\n",
    "\n",
    "    pdf = (H*(x_bin_sizes*y_bin_sizes))\n",
    "    \n",
    "    X, Y = 0.5*(xedges[1:]+xedges[:-1]), 0.5*(yedges[1:]+yedges[:-1])\n",
    "    Z = pdf.T\n",
    "    fmt = {}\n",
    "    \n",
    "    ### Adjust Here #### \n",
    "    \n",
    "    # Contour Levels Definitions\n",
    "    lvl1 = 0.23\n",
    "    lvl2 = 0.27\n",
    "    lvl3 = 0.30\n",
    "    \n",
    "    one_sigma = so.brentq(find_confidence_interval, 0., 1., args=(pdf, lvl1))\n",
    "    two_sigma = so.brentq(find_confidence_interval, 0., 1., args=(pdf, lvl2))\n",
    "    three_sigma = so.brentq(find_confidence_interval, 0., 1., args=(pdf, lvl3))\n",
    "\n",
    "    # Array of Contour levels. Adjust according to the above\n",
    "    levels = [one_sigma, two_sigma, three_sigma][::-1]\n",
    "    \n",
    "    # contour level labels  Adjust accoding to the above.\n",
    "    strs = [str(lvl1), str(lvl2), str(lvl3)][::-1]\n",
    "\n",
    "    \n",
    "    ###### \n",
    "    \n",
    "    if ax == None:\n",
    "        contour = plt.contour(X, Y, Z, levels=levels, origin=\"lower\", **contour_kwargs)\n",
    "        for l, s in zip(contour.levels, strs):\n",
    "            fmt[l] = s\n",
    "        plt.clabel(contour, contour.levels, inline=True, fmt=fmt, fontsize=12)\n",
    "\n",
    "    else:\n",
    "        contour = ax.contour(X, Y, Z, levels=levels, origin=\"lower\", **contour_kwargs)\n",
    "        for l, s in zip(contour.levels, strs):\n",
    "            fmt[l] = s\n",
    "        ax.clabel(contour, contour.levels, inline=True, fmt=fmt, fontsize=12)\n",
    "    \n",
    "    return contour"
   ]
  },
  {
   "cell_type": "code",
   "execution_count": 54,
   "id": "4f9e0762",
   "metadata": {},
   "outputs": [
    {
     "name": "stderr",
     "output_type": "stream",
     "text": [
      "<ipython-input-50-1a698144249e>:70: UserWarning: No contour levels were found within the data range.\n",
      "  contour = ax.contour(X, Y, Z, levels=levels, origin=\"lower\", **contour_kwargs)\n"
     ]
    },
    {
     "data": {
      "image/png": "[encoded data removed]",
      "text/plain": [
       "<Figure size 432x432 with 1 Axes>"
      ]
     },
     "metadata": {
      "needs_background": "light"
     },
     "output_type": "display_data"
    }
   ],
   "source": [
    "# plt.figure(figsize=(8,6))\n",
    "fig, ax=plt.subplots(figsize=(6,6))\n",
    "\n",
    "plt.hist2d(dx290, dy290, bins=1000, norm=LogNorm(), cmap='magma') # this plots dx and dy\n",
    "#plt.colorbar(mappable=None, cax=None, ax=None, label='projected number density of dark matter particles')\n",
    "density_contour(dx290, dy290, 80, 80, ax=ax, colors=['black','green','blue'])\n",
    "\n",
    "plt.xlabel('dx (pc)', fontsize=12)\n",
    "plt.ylabel('dy (pc)', fontsize=12)\n",
    "plt.xlim(-1500,1500)\n",
    "plt.ylim(-1500,1500)\n",
    "\n",
    "plt.savefig(\"0290_star_dx_dy.png\")\n",
    "\n",
    "plt.show()"
   ]
  },
  {
   "cell_type": "code",
   "execution_count": 55,
   "id": "07b52f5e",
   "metadata": {},
   "outputs": [
    {
     "data": {
      "image/png": "[encoded data removed]",
      "text/plain": [
       "<Figure size 432x432 with 1 Axes>"
      ]
     },
     "metadata": {
      "needs_background": "light"
     },
     "output_type": "display_data"
    }
   ],
   "source": [
    "# plt.figure(figsize=(8,6))\n",
    "fig, ax=plt.subplots(figsize=(6,6))\n",
    "\n",
    "plt.hist2d(dy290, dz290, bins=1000, norm=LogNorm(), cmap='magma') # this plots dy and dz\n",
    "#plt.colorbar(mappable=None, cax=None, ax=None, label='projected number density of dark matter particles')\n",
    "density_contour(dy290, dz290, 80, 80, ax=ax, colors=['black','green','blue'])\n",
    "\n",
    "plt.xlabel('dy (pc)', fontsize=12)\n",
    "plt.ylabel('dz (pc)', fontsize=12)\n",
    "plt.xlim(-1500,1500)\n",
    "plt.ylim(-1500,1500)\n",
    "\n",
    "plt.savefig(\"0290_star_dy_dz.png\")\n",
    "\n",
    "plt.show()"
   ]
  },
  {
   "cell_type": "code",
   "execution_count": 56,
   "id": "71e65333",
   "metadata": {},
   "outputs": [
    {
     "data": {
      "image/png": "[encoded data removed]",
      "text/plain": [
       "<Figure size 432x432 with 1 Axes>"
      ]
     },
     "metadata": {
      "needs_background": "light"
     },
     "output_type": "display_data"
    }
   ],
   "source": [
    "# plt.figure(figsize=(8,6))\n",
    "fig, ax=plt.subplots(figsize=(6,6))\n",
    "\n",
    "plt.hist2d(dx290, dz290, bins=1000, norm=LogNorm(), cmap='magma') # this plots dx and dz\n",
    "#plt.colorbar(mappable=None, cax=None, ax=None, label='projected number density of dark matter particles')\n",
    "density_contour(dx290, dz290, 80, 80, ax=ax, colors=['black','green','blue'])\n",
    "\n",
    "plt.xlabel('dx (pc)', fontsize=12)\n",
    "plt.ylabel('dz (pc)', fontsize=12)\n",
    "plt.xlim(-1500,1500)\n",
    "plt.ylim(-1500,1500)\n",
    "\n",
    "plt.savefig(\"0290_star_dx_dz.png\")\n",
    "\n",
    "plt.show()"
   ]
  },
  {
   "cell_type": "code",
   "execution_count": null,
   "id": "9d514f6f",
   "metadata": {},
   "outputs": [],
   "source": []
  }
 ],
 "metadata": {
  "kernelspec": {
   "display_name": "Python 3",
   "language": "python",
   "name": "python3"
  },
  "language_info": {
   "codemirror_mode": {
    "name": "ipython",
    "version": 3
   },
   "file_extension": ".py",
   "mimetype": "text/x-python",
   "name": "python",
   "nbconvert_exporter": "python",
   "pygments_lexer": "ipython3",
   "version": "3.8.8"
  }
 },
 "nbformat": 4,
 "nbformat_minor": 5
}
