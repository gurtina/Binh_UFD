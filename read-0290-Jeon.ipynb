{
 "cells": [
  {
   "cell_type": "code",
   "execution_count": 19,
   "id": "0bab93d3",
   "metadata": {},
   "outputs": [],
   "source": [
    "import numpy as np\n",
    "\n",
    "import matplotlib.pyplot as plt\n",
    "\n",
    "from IPython.display import Latex\n",
    "\n",
    "%matplotlib inline\n",
    "\n",
    "from NFW import NFW"
   ]
  },
  {
   "cell_type": "code",
   "execution_count": 20,
   "id": "564952c1",
   "metadata": {},
   "outputs": [],
   "source": [
    "전data = np.loadtxt(\"D:/Research/ultra-faint dwarf galaxies/dwarf_dm_5e8_0290.txt\")\n",
    "\n",
    "# 전 is the Hangul character for the surname Jeon of the data gatherer!\n",
    "# it's just my linguistics side being quirky and I'm glad Jupyter Notebook supports Hangul characters like this!"
   ]
  },
  {
   "cell_type": "code",
   "execution_count": 21,
   "id": "163f93ff",
   "metadata": {},
   "outputs": [],
   "source": [
    "dx = 전data[:,4]\n",
    "# collect the 4th element of each row in the array into a massive array\n",
    "\n",
    "dy = 전data[:,5]\n",
    "# collect the 5th element of each row in the array into a massive array\n",
    "\n",
    "dz = 전data[:,6]\n",
    "# collect the 6th element of each row in the array into a massive array"
   ]
  }
 ],
 "metadata": {
  "kernelspec": {
   "display_name": "Python 3",
   "language": "python",
   "name": "python3"
  },
  "language_info": {
   "codemirror_mode": {
    "name": "ipython",
    "version": 3
   },
   "file_extension": ".py",
   "mimetype": "text/x-python",
   "name": "python",
   "nbconvert_exporter": "python",
   "pygments_lexer": "ipython3",
   "version": "3.8.8"
  }
 },
 "nbformat": 4,
 "nbformat_minor": 5
}
