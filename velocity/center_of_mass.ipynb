{
 "cells": [
  {
   "cell_type": "code",
   "execution_count": 1,
   "id": "2fad86ce",
   "metadata": {},
   "outputs": [],
   "source": [
    "# import modules\n",
    "import numpy as np\n",
    "\n",
    "# import plotting modules\n",
    "import matplotlib\n",
    "import matplotlib.patches as mpatches\n",
    "import matplotlib.pyplot as plt\n",
    "from matplotlib.colors import LogNorm\n",
    "%matplotlib inline\n",
    "\n",
    "from IPython.display import Latex\n",
    "\n",
    "from NFW_Z import NFW_Z\n",
    "\n",
    "%matplotlib inline"
   ]
  },
  {
   "cell_type": "code",
   "execution_count": 2,
   "id": "37c90b4c",
   "metadata": {},
   "outputs": [],
   "source": [
    "star_290 = np.loadtxt(\"D:/Research/ultra-faint dwarf galaxies/velocity/dwarf1/noRT/dwarf_star_5e8_0290.txt\")\n",
    "\n",
    "dx_star_290 = star_290[:,4] / 1000 # converting pc to kpc\n",
    "dy_star_290 = star_290[:,5] / 1000 # converting pc to kpc\n",
    "dz_star_290 = star_290[:,6] / 1000 # converting pc to kpc\n",
    "\n",
    "star_mass_290 = star_290[:,11]"
   ]
  },
  {
   "cell_type": "code",
   "execution_count": 4,
   "id": "2e5c2f80",
   "metadata": {},
   "outputs": [
    {
     "name": "stdout",
     "output_type": "stream",
     "text": [
      "[-13.60025205 -15.63405461  -0.7363042 ]\n"
     ]
    }
   ],
   "source": [
    "COM_dx = np.sum(dx_star_290 * star_mass_290) / np.sum(star_mass_290)\n",
    "COM_dy = np.sum(dy_star_290 * star_mass_290) / np.sum(star_mass_290)\n",
    "COM_dz = np.sum(dz_star_290 * star_mass_290) / np.sum(star_mass_290)\n",
    "\n",
    "print(np.array([COM_dx, COM_dy, COM_dz]))"
   ]
  },
  {
   "cell_type": "code",
   "execution_count": null,
   "id": "66294018",
   "metadata": {},
   "outputs": [],
   "source": []
  }
 ],
 "metadata": {
  "kernelspec": {
   "display_name": "Python 3",
   "language": "python",
   "name": "python3"
  },
  "language_info": {
   "codemirror_mode": {
    "name": "ipython",
    "version": 3
   },
   "file_extension": ".py",
   "mimetype": "text/x-python",
   "name": "python",
   "nbconvert_exporter": "python",
   "pygments_lexer": "ipython3",
   "version": "3.8.8"
  }
 },
 "nbformat": 4,
 "nbformat_minor": 5
}
