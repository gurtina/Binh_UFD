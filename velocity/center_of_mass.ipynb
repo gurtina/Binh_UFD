{
 "cells": [
  {
   "cell_type": "code",
   "execution_count": 1,
   "id": "2fad86ce",
   "metadata": {},
   "outputs": [],
   "source": [
    "# import modules\n",
    "import numpy as np\n",
    "\n",
    "# import plotting modules\n",
    "import matplotlib\n",
    "import matplotlib.patches as mpatches\n",
    "import matplotlib.pyplot as plt\n",
    "from matplotlib.colors import LogNorm\n",
    "%matplotlib inline\n",
    "\n",
    "from IPython.display import Latex\n",
    "\n",
    "from NFW_Z import NFW_Z\n",
    "\n",
    "%matplotlib inline"
   ]
  },
  {
   "cell_type": "markdown",
   "id": "f34b872b",
   "metadata": {},
   "source": [
    "# First, we find the stellar COM."
   ]
  },
  {
   "cell_type": "markdown",
   "id": "3f032d7f",
   "metadata": {},
   "source": [
    "## These are the functions for the center of mass calculations:"
   ]
  },
  {
   "cell_type": "code",
   "execution_count": 2,
   "id": "a5c5a80e",
   "metadata": {},
   "outputs": [],
   "source": [
    "def find_COM_star(r_vir, star_mass, x, y, z):\n",
    "    r = np.sqrt(x**2 + y**2 + z**2)\n",
    "    COM_x = np.sum(x[r<r_vir] * star_mass[r<r_vir]) / np.sum(star_mass[r<r_vir])\n",
    "    COM_y = np.sum(y[r<r_vir] * star_mass[r<r_vir]) / np.sum(star_mass[r<r_vir])\n",
    "    COM_z = np.sum(z[r<r_vir] * star_mass[r<r_vir]) / np.sum(star_mass[r<r_vir])\n",
    "    return COM_x, COM_y, COM_z"
   ]
  },
  {
   "cell_type": "code",
   "execution_count": 3,
   "id": "6d6043c7",
   "metadata": {},
   "outputs": [],
   "source": [
    "def COM_star(data, r_vir, dx_star, dy_star, dz_star, star_mass):\n",
    "    \n",
    "    COM_x, COM_y, COM_z = find_COM_star(r_vir, star_mass, dx_star, dy_star, dz_star)\n",
    "#    COM_x_tot = np.sum(dx_star * star_mass) / np.sum(star_mass)\n",
    "#    COM_y_tot = np.sum(dy_star * star_mass) / np.sum(star_mass)\n",
    "#    COM_z_tot = np.sum(dz_star * star_mass) / np.sum(star_mass)\n",
    "\n",
    "    COM = np.array([COM_x, COM_y, COM_z])\n",
    "#    real_COM = np.array([COM_x_tot, COM_y_tot, COM_z_tot])\n",
    "\n",
    "    print('The center of STELLAR mass within r_vir is', COM , 'pc')\n",
    "#    print('The center of mass overall is', real_COM, 'pc')\n",
    "\n",
    "    return COM"
   ]
  },
  {
   "cell_type": "markdown",
   "id": "9d9f0994",
   "metadata": {},
   "source": [
    "## These are the calculations for the stellar COM of the 4 dwarfs:"
   ]
  },
  {
   "cell_type": "code",
   "execution_count": 4,
   "id": "a6c792ef",
   "metadata": {},
   "outputs": [
    {
     "name": "stdout",
     "output_type": "stream",
     "text": [
      "The center of STELLAR mass within r_vir is [ 49.67001746 -48.91751633 -60.9455316 ] pc\n",
      "r_COM for stars = 92.598 pc\n",
      "r_half = 190.0 pc\n",
      "r_vir = 11334.0 pc\n",
      "r_COM for stars/r_vir = 0.008169932255363391\n"
     ]
    }
   ],
   "source": [
    "dwarf1_noRT = np.loadtxt(\"D:/Research/ultra-faint dwarf galaxies/velocity/dwarf1/noRT/dwarf_star_5e8_0290.txt\")\n",
    "\n",
    "rvir_1_noRT = dwarf1_noRT[:,2][0] # in pc\n",
    "x_star_1_noRT = dwarf1_noRT[:,4] # in pc\n",
    "y_star_1_noRT = dwarf1_noRT[:,5] # in pc\n",
    "z_star_1_noRT = dwarf1_noRT[:,6] # in pc\n",
    "star_mass_1_noRT = dwarf1_noRT[:,11] # in M_sun\n",
    "\n",
    "COM_pos_1noRT = COM_star(dwarf1_noRT, rvir_1_noRT, x_star_1_noRT, y_star_1_noRT, z_star_1_noRT, star_mass_1_noRT)\n",
    "COM_distance_1noRT = np.sqrt(np.sum(COM_pos_1noRT ** 2))\n",
    "\n",
    "print('r_COM for stars =', round(COM_distance_1noRT, 4), 'pc')\n",
    "print('r_half =', 0.19 * 1000, 'pc')\n",
    "print('r_vir =', rvir_1_noRT, 'pc')\n",
    "print('r_COM for stars/r_vir =', COM_distance_1noRT / rvir_1_noRT)"
   ]
  },
  {
   "cell_type": "code",
   "execution_count": 5,
   "id": "22eb2e59",
   "metadata": {},
   "outputs": [
    {
     "name": "stdout",
     "output_type": "stream",
     "text": [
      "The center of STELLAR mass within r_vir is [-45.57935211 -40.38662148  24.02137645] pc\n",
      "r_COM for stars = 65.4644 pc\n",
      "r_half = 150.0 pc\n",
      "r_vir = 11416.0 pc\n",
      "r_COM for stars/r_vir = 0.005734439804332848\n"
     ]
    }
   ],
   "source": [
    "dwarf1_RT = np.loadtxt(\"D:/Research/ultra-faint dwarf galaxies/velocity/dwarf1/RT/dwarf_star_5e8_rt_0290.txt\")\n",
    "\n",
    "rvir_1_RT = dwarf1_RT[:,2][0] # in pc\n",
    "x_star_1_RT = dwarf1_RT[:,4] # in pc\n",
    "y_star_1_RT = dwarf1_RT[:,5] # in pc\n",
    "z_star_1_RT = dwarf1_RT[:,6] # in pc\n",
    "star_mass_1_RT = dwarf1_RT[:,11]\n",
    "\n",
    "COM_pos_1RT = COM_star(dwarf1_RT, rvir_1_RT, x_star_1_RT, y_star_1_RT, z_star_1_RT, star_mass_1_RT)\n",
    "COM_distance_1RT = np.sqrt(np.sum(COM_pos_1RT ** 2))\n",
    "\n",
    "print('r_COM for stars =', round(COM_distance_1RT, 4), 'pc')\n",
    "print('r_half =', 0.15 * 1000, 'pc')\n",
    "print('r_vir =', rvir_1_RT, 'pc')\n",
    "print('r_COM for stars/r_vir =', COM_distance_1RT / rvir_1_RT)"
   ]
  },
  {
   "cell_type": "code",
   "execution_count": 6,
   "id": "75d884f1",
   "metadata": {},
   "outputs": [
    {
     "name": "stdout",
     "output_type": "stream",
     "text": [
      "The center of STELLAR mass within r_vir is [ 31.30523866 -35.47830822  37.90455387] pc\n",
      "r_COM for stars = 60.6258 pc\n",
      "r_half = 390.0 pc\n",
      "r_vir = 9752.1 pc\n",
      "r_COM for stars/r_vir = 0.006216688322650635\n"
     ]
    }
   ],
   "source": [
    "dwarf2_noRT = np.loadtxt(\"D:/Research/ultra-faint dwarf galaxies/velocity/dwarf2/noRT/dwarf_star_7e8_0300.txt\")\n",
    "\n",
    "rvir_2_noRT = dwarf2_noRT[:,2][0] # in pc / 1000\n",
    "x_star_2_noRT = dwarf2_noRT[:,4] # in pc\n",
    "y_star_2_noRT = dwarf2_noRT[:,5] # in pc\n",
    "z_star_2_noRT = dwarf2_noRT[:,6] # in pc\n",
    "star_mass_2_noRT = dwarf2_noRT[:,11] # in M_sun\n",
    "\n",
    "COM_pos_2noRT = COM_star(dwarf2_noRT, rvir_2_noRT, x_star_2_noRT, y_star_2_noRT, z_star_2_noRT, star_mass_2_noRT)\n",
    "COM_distance_2noRT = np.sqrt(np.sum(COM_pos_2noRT ** 2))\n",
    "\n",
    "print('r_COM for stars =', round(COM_distance_2noRT, 4), 'pc')\n",
    "print('r_half =', 0.39 * 1000, 'pc')\n",
    "print('r_vir =', rvir_2_noRT, 'pc')\n",
    "print('r_COM for stars/r_vir =', COM_distance_2noRT / rvir_2_noRT)"
   ]
  },
  {
   "cell_type": "code",
   "execution_count": 7,
   "id": "0f09b251",
   "metadata": {},
   "outputs": [
    {
     "name": "stdout",
     "output_type": "stream",
     "text": [
      "The center of STELLAR mass within r_vir is [-104.65706052  181.45054531   23.53014314] pc\n",
      "r_COM for stars = 210.7868 pc\n",
      "r_half = 30.0 pc\n",
      "r_vir = 9729.6 pc\n",
      "r_COM for stars/r_vir = 0.02166448611363184\n"
     ]
    }
   ],
   "source": [
    "dwarf2_RT = np.loadtxt(\"D:/Research/ultra-faint dwarf galaxies/velocity/dwarf2/RT/dwarf_star_7e8_rt_0300.txt\")\n",
    "\n",
    "rvir_2_RT = dwarf2_RT[:,2][0] # in pc\n",
    "x_star_2_RT = dwarf2_RT[:,4] # in pc\n",
    "y_star_2_RT = dwarf2_RT[:,5] # in pc\n",
    "z_star_2_RT = dwarf2_RT[:,6] # in pc\n",
    "star_mass_2_RT = dwarf2_RT[:,11] # in M_sun\n",
    "\n",
    "COM_pos_2RT = COM_star(dwarf2_RT, rvir_2_RT, x_star_2_RT, y_star_2_RT, z_star_2_RT, star_mass_2_RT)\n",
    "COM_distance_2RT = np.sqrt(np.sum(COM_pos_2RT ** 2))\n",
    "\n",
    "print('r_COM for stars =', round(COM_distance_2RT, 4), 'pc')\n",
    "print('r_half =', 0.03 * 1000, 'pc')\n",
    "print('r_vir =', rvir_2_RT, 'pc')\n",
    "print('r_COM for stars/r_vir =', COM_distance_2RT / rvir_2_RT)"
   ]
  },
  {
   "cell_type": "markdown",
   "id": "71be9ed1",
   "metadata": {},
   "source": [
    "# First, we find the dark matter COM."
   ]
  },
  {
   "cell_type": "markdown",
   "id": "bac0c37a",
   "metadata": {},
   "source": [
    "## These are the calculations for the dark matter COM of the 4 dwarfs:"
   ]
  },
  {
   "cell_type": "code",
   "execution_count": 8,
   "id": "09900bc4",
   "metadata": {},
   "outputs": [],
   "source": [
    "def find_COM_dm(r_vir, star_mass, x, y, z):\n",
    "    r = np.sqrt(x**2 + y**2 + z**2)\n",
    "    idx = np.where(r < r_vir)\n",
    "    \n",
    "    x_in_rvir = x[idx[0]]\n",
    "    y_in_rvir = y[idx[0]]\n",
    "    z_in_rvir = z[idx[0]]\n",
    "    \n",
    "    COM_x = np.sum(x_in_rvir * star_mass) / (np.size(x_in_rvir) * star_mass)\n",
    "    COM_y = np.sum(y_in_rvir * star_mass) / (np.size(y_in_rvir) * star_mass)\n",
    "    COM_z = np.sum(z_in_rvir * star_mass) / (np.size(z_in_rvir) * star_mass)\n",
    "    return COM_x, COM_y, COM_z"
   ]
  },
  {
   "cell_type": "code",
   "execution_count": 9,
   "id": "585b5828",
   "metadata": {},
   "outputs": [],
   "source": [
    "def COM_dm(data, r_vir, dx_dm, dy_dm, dz_dm, star_mass):\n",
    "    COM_x, COM_y, COM_z = find_COM_dm(r_vir, star_mass, dx_dm, dy_dm, dz_dm)\n",
    "    COM = np.array([COM_x, COM_y, COM_z])\n",
    "    print('The center of DM mass within r_vir is', COM , 'pc')\n",
    "    return COM"
   ]
  },
  {
   "cell_type": "code",
   "execution_count": 10,
   "id": "67058a02",
   "metadata": {},
   "outputs": [
    {
     "name": "stdout",
     "output_type": "stream",
     "text": [
      "The center of DM mass within r_vir is [64.86652738 41.20460146 -6.55328106] pc\n",
      "r_COM for DM = 77.1261 pc\n",
      "r_half = 190.0 pc\n",
      "r_vir = 11334.0 pc\n",
      "r_COM for DM/r_vir = 0.006804841400121989\n"
     ]
    }
   ],
   "source": [
    "dwarf1_DMnoRT = np.loadtxt(\"D:/Research/ultra-faint dwarf galaxies/velocity/dwarf1/noRT/dwarf_dm_5e8_0290.txt\")\n",
    "\n",
    "rvir_1_DMnoRT = dwarf1_DMnoRT[:,2][0] # in pc\n",
    "x_dm_1_DMnoRT = dwarf1_DMnoRT[:,4] # in pc\n",
    "y_dm_1_DMnoRT = dwarf1_DMnoRT[:,5] # in pc\n",
    "z_dm_1_DMnoRT = dwarf1_DMnoRT[:,6] # in pc\n",
    "dm_mass_1_DMnoRT = 500 # in M_sun\n",
    "\n",
    "COM_pos_1DMnoRT = COM_dm(dwarf1_DMnoRT, rvir_1_DMnoRT, x_dm_1_DMnoRT, \\\n",
    "                           y_dm_1_DMnoRT, z_dm_1_DMnoRT, dm_mass_1_DMnoRT)\n",
    "COM_distance_1DMnoRT = np.sqrt(np.sum(COM_pos_1DMnoRT ** 2))\n",
    "\n",
    "print('r_COM for DM =', round(COM_distance_1DMnoRT, 4), 'pc')\n",
    "print('r_half =', 0.19 * 1000, 'pc')\n",
    "print('r_vir =', rvir_1_DMnoRT, 'pc')\n",
    "print('r_COM for DM/r_vir =', COM_distance_1DMnoRT / rvir_1_DMnoRT)"
   ]
  },
  {
   "cell_type": "code",
   "execution_count": 11,
   "id": "c80c349a",
   "metadata": {},
   "outputs": [
    {
     "name": "stdout",
     "output_type": "stream",
     "text": [
      "The center of DM mass within r_vir is [ 35.24883169 122.93960062  26.32844281] pc\n",
      "r_COM for DM = 130.5749 pc\n",
      "r_half = 150.0 pc\n",
      "r_vir = 11416.0 pc\n",
      "r_COM for DM/r_vir = 0.011437888082997895\n"
     ]
    }
   ],
   "source": [
    "dwarf1_DMRT = np.loadtxt(\"D:/Research/ultra-faint dwarf galaxies/velocity/dwarf1/RT/dwarf_dm_5e8_RT_0290.txt\")\n",
    "\n",
    "rvir_1_DMRT = dwarf1_DMRT[:,2][0] # in pc\n",
    "x_dm_1_DMRT = dwarf1_DMRT[:,4] # in pc\n",
    "y_dm_1_DMRT = dwarf1_DMRT[:,5] # in pc\n",
    "z_dm_1_DMRT = dwarf1_DMRT[:,6] # in pc\n",
    "dm_mass_1_DMRT = 500 # in M_sun\n",
    "\n",
    "COM_pos_1DMRT = COM_dm(dwarf1_DMRT, rvir_1_DMRT, x_dm_1_DMRT, \\\n",
    "                       y_dm_1_DMRT, z_dm_1_DMRT, dm_mass_1_DMRT)\n",
    "COM_distance_1DMRT = np.sqrt(np.sum(COM_pos_1DMRT ** 2))\n",
    "\n",
    "print('r_COM for DM =', round(COM_distance_1DMRT, 4), 'pc')\n",
    "print('r_half =', 0.15 * 1000, 'pc')\n",
    "print('r_vir =', rvir_1_DMRT, 'pc')\n",
    "print('r_COM for DM/r_vir =', COM_distance_1DMRT / rvir_1_DMRT)"
   ]
  },
  {
   "cell_type": "code",
   "execution_count": 12,
   "id": "023399b1",
   "metadata": {},
   "outputs": [
    {
     "name": "stdout",
     "output_type": "stream",
     "text": [
      "The center of DM mass within r_vir is [ 63.31490462 -28.50094103  -3.40585748] pc\n",
      "r_COM for DM = 69.5175 pc\n",
      "r_half = 390.0 pc\n",
      "r_vir = 9752.1 pc\n",
      "r_COM for DM/r_vir = 0.007128463049440228\n"
     ]
    }
   ],
   "source": [
    "dwarf2_DMnoRT = np.loadtxt(\"D:/Research/ultra-faint dwarf galaxies/velocity/dwarf2/noRT/dwarf_dm_7e8_0300.txt\")\n",
    "\n",
    "rvir_2_DMnoRT = dwarf2_DMnoRT[:,2][0] # in pc\n",
    "x_dm_2_DMnoRT = dwarf2_DMnoRT[:,4] # in pc\n",
    "y_dm_2_DMnoRT = dwarf2_DMnoRT[:,5] # in pc\n",
    "z_dm_2_DMnoRT = dwarf2_DMnoRT[:,6] # in pc\n",
    "dm_mass_2_DMnoRT = 500 # in M_sun\n",
    "\n",
    "COM_pos_2DMnoRT = COM_dm(dwarf2_DMnoRT, rvir_2_DMnoRT, x_dm_2_DMnoRT, \\\n",
    "                           y_dm_2_DMnoRT, z_dm_2_DMnoRT, dm_mass_2_DMnoRT)\n",
    "COM_distance_2DMnoRT = np.sqrt(np.sum(COM_pos_2DMnoRT ** 2))\n",
    "\n",
    "print('r_COM for DM =', round(COM_distance_2DMnoRT, 4), 'pc')\n",
    "print('r_half =', 0.39 * 1000, 'pc')\n",
    "print('r_vir =', rvir_2_DMnoRT, 'pc')\n",
    "print('r_COM for DM/r_vir =', COM_distance_2DMnoRT / rvir_2_DMnoRT)"
   ]
  },
  {
   "cell_type": "code",
   "execution_count": 13,
   "id": "c966e2af",
   "metadata": {},
   "outputs": [
    {
     "name": "stdout",
     "output_type": "stream",
     "text": [
      "The center of DM mass within r_vir is [-22.0370101  115.98802558  89.01133649] pc\n",
      "r_COM for DM = 147.8576 pc\n",
      "r_half = 30.0 pc\n",
      "r_vir = 9729.6 pc\n",
      "r_COM for DM/r_vir = 0.015196678191449984\n"
     ]
    }
   ],
   "source": [
    "dwarf2_DMRT = np.loadtxt(\"D:/Research/ultra-faint dwarf galaxies/velocity/dwarf2/RT/dwarf_dm_7e8_rt_0300.txt\")\n",
    "\n",
    "rvir_2_DMRT = dwarf2_DMRT[:,2][0] # in pc\n",
    "x_dm_2_DMRT = dwarf2_DMRT[:,4] # in pc\n",
    "y_dm_2_DMRT = dwarf2_DMRT[:,5] # in pc\n",
    "z_dm_2_DMRT = dwarf2_DMRT[:,6] # in pc\n",
    "dm_mass_2_DMRT = 500 # in M_sun\n",
    "\n",
    "COM_pos_2DMRT = COM_dm(dwarf2_DMRT, rvir_2_DMRT, x_dm_2_DMRT, \\\n",
    "                         y_dm_2_DMRT, z_dm_2_DMRT, dm_mass_2_DMRT)\n",
    "COM_distance_2DMRT = np.sqrt(np.sum(COM_pos_2DMRT ** 2))\n",
    "\n",
    "print('r_COM for DM =', round(COM_distance_2DMRT, 4), 'pc')\n",
    "print('r_half =', 0.03 * 1000, 'pc')\n",
    "print('r_vir =', rvir_2_DMRT, 'pc')\n",
    "print('r_COM for DM/r_vir =', COM_distance_2DMRT / rvir_2_DMRT)"
   ]
  },
  {
   "cell_type": "code",
   "execution_count": null,
   "id": "c8f5a793",
   "metadata": {},
   "outputs": [],
   "source": []
  }
 ],
 "metadata": {
  "kernelspec": {
   "display_name": "Python 3",
   "language": "python",
   "name": "python3"
  },
  "language_info": {
   "codemirror_mode": {
    "name": "ipython",
    "version": 3
   },
   "file_extension": ".py",
   "mimetype": "text/x-python",
   "name": "python",
   "nbconvert_exporter": "python",
   "pygments_lexer": "ipython3",
   "version": "3.8.8"
  }
 },
 "nbformat": 4,
 "nbformat_minor": 5
}
