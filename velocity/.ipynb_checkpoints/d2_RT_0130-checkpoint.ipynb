{
 "cells": [
  {
   "cell_type": "markdown",
   "id": "3674e595",
   "metadata": {},
   "source": [
    "# velocity of dwarf 2, with RT, z = 0.130"
   ]
  },
  {
   "cell_type": "code",
   "execution_count": 1,
   "id": "ef2cc310",
   "metadata": {},
   "outputs": [],
   "source": [
    "# import modules\n",
    "import numpy as np\n",
    "\n",
    "# import plotting modules\n",
    "import matplotlib\n",
    "import matplotlib.patches as mpatches\n",
    "import matplotlib.pyplot as plt\n",
    "from matplotlib.colors import LogNorm\n",
    "%matplotlib inline\n",
    "\n",
    "from IPython.display import Latex\n",
    "\n",
    "from NFW_Z import NFW_Z\n",
    "\n",
    "%matplotlib inline"
   ]
  },
  {
   "cell_type": "code",
   "execution_count": null,
   "id": "62a9eb05",
   "metadata": {},
   "outputs": [],
   "source": [
    "dm_290 = np.loadtxt(\"D:/Research/ultra-faint dwarf galaxies/velocity/dwarf2/RT/dwarf_dm_7e8_rt_0290.txt\")\n",
    "\n",
    "dx_dm_290 = dm_290[:,4] / 1000 # converting pc to kpc\n",
    "dy_dm_290 = dm_290[:,5] / 1000 # converting pc to kpc\n",
    "dz_dm_290 = dm_290[:,6] / 1000 # converting pc to kpc\n",
    "r_dm_290 = np.sqrt(dx_dm_290**2 + dy_dm_290**2 + dz_dm_290**2)\n",
    "print(max(r_dm_290))\n",
    "\n",
    "vx_dm_290 = dm_290[:,7]\n",
    "vy_dm_290 = dm_290[:,8]\n",
    "vz_dm_290 = dm_290[:,9]\n",
    "vx_dm_COM = np.sum(vx_dm_290) / np.size(vx_dm_290)\n",
    "vy_dm_COM = np.sum(vy_dm_290) / np.size(vy_dm_290)\n",
    "vz_dm_COM = np.sum(vz_dm_290) / np.size(vz_dm_290)\n",
    "vx_dm_new = vx_dm_290 - vx_dm_COM\n",
    "vy_dm_new = vy_dm_290 - vy_dm_COM\n",
    "vz_dm_new = vz_dm_290 - vz_dm_COM\n",
    "v_dm_new = np.sqrt(vx_dm_new**2 + vy_dm_new**2 + vz_dm_new**2)"
   ]
  },
  {
   "cell_type": "code",
   "execution_count": null,
   "id": "4b67044a",
   "metadata": {},
   "outputs": [],
   "source": [
    "star_290 = np.loadtxt(\"D:/Research/ultra-faint dwarf galaxies/velocity/dwarf2/RT/dwarf_star_7e8_rt_0290.txt\")\n",
    "\n",
    "dx_star_290 = star_290[:,4] / 1000 # converting pc to kpc\n",
    "dy_star_290 = star_290[:,5] / 1000 # converting pc to kpc\n",
    "dz_star_290 = star_290[:,6] / 1000 # converting pc to kpc\n",
    "r_star_290 = np.sqrt(dx_star_290**2 + dy_star_290**2 + dz_star_290**2)\n",
    "\n",
    "vx_star_290 = star_290[:,7]\n",
    "vy_star_290 = star_290[:,8]\n",
    "vz_star_290 = star_290[:,9]\n",
    "vx_star_COM = np.sum(vx_star_290) / np.size(vx_star_290)\n",
    "vy_star_COM = np.sum(vy_star_290) / np.size(vy_star_290)\n",
    "vz_star_COM = np.sum(vz_star_290) / np.size(vz_star_290)\n",
    "vx_star_new = vx_star_290 - vx_star_COM\n",
    "vy_star_new = vy_star_290 - vy_star_COM\n",
    "vz_star_new = vz_star_290 - vz_star_COM\n",
    "v_star_new = np.sqrt(vx_star_new**2 + vy_star_new**2 + vz_star_new**2)"
   ]
  },
  {
   "cell_type": "markdown",
   "id": "a8b034d2",
   "metadata": {},
   "source": [
    "## CHAPTER 1:\n",
    "## Speed of dark matter & star particles with respect to distance from dwarf center"
   ]
  },
  {
   "cell_type": "code",
   "execution_count": null,
   "id": "39c30270",
   "metadata": {},
   "outputs": [],
   "source": [
    "'''Generate a radius array to work by later. unit: kpc'''\n",
    "\n",
    "radius_array = np.arange(0.01, 8.16, 0.02)"
   ]
  },
  {
   "cell_type": "code",
   "execution_count": null,
   "id": "1927f841",
   "metadata": {
    "scrolled": false
   },
   "outputs": [],
   "source": [
    "fig, ax = plt.subplots(figsize=[12, 10])\n",
    "\n",
    "plt.hist2d(r_dm_290, v_dm_new, bins=500, cmap='viridis')\n",
    "cbar = plt.colorbar()\n",
    "cbar.set_label(label='dark matter particle density (number of particles/bin size)', size=17)\n",
    "cbar.ax.tick_params(labelsize=15)\n",
    "\n",
    "plt.scatter(r_star_290, v_star_new, 25, color='red', label='star particle')\n",
    "\n",
    "plt.xlabel('distance from dwarf center (kpc)', fontsize=17)\n",
    "plt.ylabel('velocity (km/s)', fontsize=17) # using LATEX here!\n",
    "plt.title('speed of particle with respect to distance\\nfrom dwarf center, dwarf 2, z = 0.130, with RT', loc='center', fontsize=17)\n",
    "plt.xticks(fontsize=15)\n",
    "plt.yticks(fontsize=15)\n",
    "plt.legend(loc='upper right', fontsize=17)\n",
    "\n",
    "plt.show()"
   ]
  },
  {
   "cell_type": "markdown",
   "id": "1fa5643b",
   "metadata": {},
   "source": [
    "## CHAPTER 2 \n",
    "## Mean velocity and velocity dispersion profiles of dark matter particles"
   ]
  },
  {
   "cell_type": "code",
   "execution_count": null,
   "id": "4354c7b1",
   "metadata": {},
   "outputs": [],
   "source": [
    "bin_size = 0.02"
   ]
  },
  {
   "cell_type": "code",
   "execution_count": null,
   "id": "346bbe3b",
   "metadata": {},
   "outputs": [],
   "source": [
    "'''Compute the mean velocity in spherical volumes, \n",
    "along with the corresponding standard deviation.'''\n",
    "\n",
    "mean_vx = np.zeros(np.size(radius_array))\n",
    "mean_vy = np.zeros(np.size(radius_array))\n",
    "mean_vz = np.zeros(np.size(radius_array))\n",
    "\n",
    "sigma_vx = np.zeros(np.size(radius_array))\n",
    "sigma_vy = np.zeros(np.size(radius_array))\n",
    "sigma_vz = np.zeros(np.size(radius_array))\n",
    "\n",
    "h = 0\n",
    "\n",
    "for radius_value in radius_array:\n",
    "    location = np.where((r_dm_290 < (radius_value + bin_size)))\n",
    "    vx_values = vx_dm_new[location]\n",
    "    vy_values = vy_dm_new[location]\n",
    "    vz_values = vz_dm_new[location]\n",
    "    vx_array = np.array(vx_values)\n",
    "    vy_array = np.array(vy_values)\n",
    "    vz_array = np.array(vz_values)\n",
    "    mean_vx[h] = np.mean(vx_array)\n",
    "    mean_vy[h] = np.mean(vy_array)\n",
    "    mean_vz[h] = np.mean(vz_array)\n",
    "    sigma_vx[h] = np.std(vx_array)\n",
    "    sigma_vy[h] = np.std(vy_array)\n",
    "    sigma_vz[h] = np.std(vz_array)\n",
    "    h += 1"
   ]
  },
  {
   "cell_type": "code",
   "execution_count": null,
   "id": "d6c2f8c8",
   "metadata": {},
   "outputs": [],
   "source": [
    "fig, ax = plt.subplots(figsize=[10, 10])\n",
    "\n",
    "plt.plot(radius_array, mean_vx, linewidth=4, color='#083D77', label='$\\mu_{v_x}$')\n",
    "plt.plot(radius_array, sigma_vx, linewidth=3, linestyle='-.', color='#083D77', label='$\\sigma_{v_x}$')\n",
    "plt.plot(radius_array, mean_vy, linewidth=4, color='#DA4167', label='$\\mu_{v_y}$')\n",
    "plt.plot(radius_array, sigma_vy, linewidth=3, linestyle='-.', color='#DA4167', label='$\\sigma_{v_y}$')\n",
    "plt.plot(radius_array, mean_vz, linewidth=4, color='#F4D35E', label='$\\mu_{v_z}$')\n",
    "plt.plot(radius_array, sigma_vz, linewidth=3, linestyle='-.', color='#F4D35E', label='$\\sigma_{v_z}$')\n",
    "\n",
    "plt.xlabel('distance from dwarf center (kpc)', fontsize=17)\n",
    "plt.ylabel('velocity (km/s)', fontsize=17) # using LATEX here!\n",
    "plt.xlim(0, 5)\n",
    "plt.title('mean velocity and velocity dispersion profiles\\nof dark matter particles, dwarf 2, z = 0.130, with RT', loc='center', fontsize=17)\n",
    "plt.xticks(fontsize=15)\n",
    "plt.yticks(fontsize=15)\n",
    "plt.legend(loc='upper right', fontsize=16, bbox_to_anchor=(1.18, 1.01), markerscale=2)\n",
    "\n",
    "plt.show()"
   ]
  },
  {
   "cell_type": "markdown",
   "id": "4c47bf1c",
   "metadata": {},
   "source": [
    "## CHAPTER 3 \n",
    "## Mean velocity and velocity dispersion profiles of star particles"
   ]
  },
  {
   "cell_type": "code",
   "execution_count": null,
   "id": "6f948837",
   "metadata": {},
   "outputs": [],
   "source": [
    "'''Compute the mean velocity in spherical volumes, \n",
    "along with the corresponding standard deviation.'''\n",
    "\n",
    "bin_size = 0.02\n",
    "\n",
    "mean_star_vx = np.zeros(np.size(radius_array))\n",
    "mean_star_vy = np.zeros(np.size(radius_array))\n",
    "mean_star_vz = np.zeros(np.size(radius_array))\n",
    "\n",
    "sigma_star_vx = np.zeros(np.size(radius_array))\n",
    "sigma_star_vy = np.zeros(np.size(radius_array))\n",
    "sigma_star_vz = np.zeros(np.size(radius_array))\n",
    "\n",
    "j = 0\n",
    "\n",
    "for radius_value in radius_array:\n",
    "    location = np.where((r_star_290 < (radius_value + bin_size)))\n",
    "    vx_values = vx_star_new[location]\n",
    "    vy_values = vy_star_new[location]\n",
    "    vz_values = vz_star_new[location]\n",
    "    vx_array = np.array(vx_values)\n",
    "    vy_array = np.array(vy_values)\n",
    "    vz_array = np.array(vz_values)\n",
    "    mean_star_vx[j] = np.mean(vx_array)\n",
    "    mean_star_vy[j] = np.mean(vy_array)\n",
    "    mean_star_vz[j] = np.mean(vz_array)\n",
    "    sigma_star_vx[j] = np.std(vx_array)\n",
    "    sigma_star_vy[j] = np.std(vy_array)\n",
    "    sigma_star_vz[j] = np.std(vz_array)\n",
    "    j += 1"
   ]
  },
  {
   "cell_type": "code",
   "execution_count": null,
   "id": "1d6a2131",
   "metadata": {},
   "outputs": [],
   "source": [
    "fig, ax = plt.subplots(figsize=[10, 10])\n",
    "\n",
    "plt.plot(radius_array, mean_star_vx, linewidth=4, color='#083D77', label='$\\mu_{v_x}$')\n",
    "plt.plot(radius_array, sigma_star_vx, linewidth=3, linestyle='-.', color='#083D77', label='$\\sigma_{v_x}$')\n",
    "plt.plot(radius_array, mean_star_vy, linewidth=4, color='#DA4167', label='$\\mu_{v_y}$')\n",
    "plt.plot(radius_array, sigma_star_vy, linewidth=3, linestyle='-.', color='#DA4167', label='$\\sigma_{v_y}$')\n",
    "plt.plot(radius_array, mean_star_vz, linewidth=4, color='#F4D35E', label='$\\mu_{v_z}$')\n",
    "plt.plot(radius_array, sigma_star_vz, linewidth=3, linestyle='-.', color='#F4D35E', label='$\\sigma_{v_z}$')\n",
    "\n",
    "plt.xlabel('distance from dwarf center (kpc)', fontsize=17)\n",
    "plt.ylabel('velocity (km/s)', fontsize=17) # using LATEX here!\n",
    "plt.xlim(0,5)\n",
    "plt.title('mean velocity and velocity dispersion profiles\\nof star particles, dwarf 2, z = 0.130, with RT', loc='center', fontsize=17)\n",
    "plt.xticks(fontsize=15)\n",
    "plt.yticks(fontsize=15)\n",
    "plt.legend(loc='upper right', fontsize=16, bbox_to_anchor=(1.18, 1.01), markerscale=2)\n",
    "\n",
    "plt.show()"
   ]
  },
  {
   "cell_type": "markdown",
   "id": "e816db2a",
   "metadata": {},
   "source": [
    "# CHAPTER 4 \n",
    "## Mass profile of stars only. At which radius is the mass enclosed 1/2 of the total mass in stars?"
   ]
  },
  {
   "cell_type": "code",
   "execution_count": null,
   "id": "68388c70",
   "metadata": {},
   "outputs": [],
   "source": [
    "'''Read in the star particle mass info.'''\n",
    "\n",
    "star_mass_290 = star_290[:,11]"
   ]
  },
  {
   "cell_type": "code",
   "execution_count": null,
   "id": "886d70a8",
   "metadata": {},
   "outputs": [],
   "source": [
    "'''Generate the mass profile.'''\n",
    "\n",
    "bin_size = 0.02\n",
    "\n",
    "mass_prof_stars = np.zeros(np.size(radius_array))\n",
    "h = 0\n",
    "for radius_value in radius_array:\n",
    "    particles = np.where((r_star_290 < (radius_value + bin_size)))\n",
    "    masses_in_here = np.sum(star_mass_290[particles])\n",
    "    mass_prof_stars[h] = masses_in_here\n",
    "    h += 1"
   ]
  },
  {
   "cell_type": "code",
   "execution_count": null,
   "id": "3b807813",
   "metadata": {},
   "outputs": [],
   "source": [
    "'''Where is the mass enclosed closest to 1/2 of the total star particle mass?'''\n",
    "\n",
    "M_tot = mass_prof_stars[np.size(mass_prof_stars) - 1]\n",
    "M_half = (1/2) * M_tot\n",
    "\n",
    "print(M_half)\n",
    "\n",
    "closest = (np.abs(mass_prof_stars - M_half)).argmin()\n",
    "r_half = radius_array[closest]"
   ]
  },
  {
   "cell_type": "code",
   "execution_count": null,
   "id": "4e74019e",
   "metadata": {},
   "outputs": [],
   "source": [
    "fig, ax = plt.subplots(figsize=[10, 10])\n",
    "\n",
    "plt.plot(radius_array, mass_prof_stars, 'maroon', linewidth=2)\n",
    "\n",
    "plt.axvline(r_half, color='hotpink', linewidth=2)\n",
    "\n",
    "plt.xlabel('distance from dwarf center (kpc)', fontsize=17)\n",
    "plt.ylabel('star mass profile (M$_\\odot$)', fontsize=17) # using LATEX here!\n",
    "plt.xlim(0,2)\n",
    "plt.title('mass profile of only the stars\\nin dwarf 2, z = 0.130, with RT', loc='center', fontsize=17)\n",
    "plt.text(r_half + 0.1, 1200, '''$r_{half}$ = ''' + str(round(r_half, 3)) + ''' kpc''', fontsize=18, color='hotpink')\n",
    "plt.xticks(fontsize=15)\n",
    "plt.yticks(fontsize=15)\n",
    "\n",
    "plt.show()"
   ]
  },
  {
   "cell_type": "code",
   "execution_count": null,
   "id": "09357a52",
   "metadata": {},
   "outputs": [],
   "source": [
    "fig, ax = plt.subplots(figsize=[10, 10])\n",
    "\n",
    "plt.plot(radius_array, mean_vx, linewidth=4, color='#083D77', label='$\\mu_{v_x}$')\n",
    "plt.plot(radius_array, sigma_vx, linewidth=3, linestyle='-.', color='#083D77', label='$\\sigma_{v_x}$')\n",
    "plt.plot(radius_array, mean_vy, linewidth=4, color='#DA4167', label='$\\mu_{v_y}$')\n",
    "plt.plot(radius_array, sigma_vy, linewidth=3, linestyle='-.', color='#DA4167', label='$\\sigma_{v_y}$')\n",
    "plt.plot(radius_array, mean_vz, linewidth=4, color='#F4D35E', label='$\\mu_{v_z}$')\n",
    "plt.plot(radius_array, sigma_vz, linewidth=3, linestyle='-.', color='#F4D35E', label='$\\sigma_{v_z}$')\n",
    "\n",
    "plt.axvline(r_half, color='hotpink', linewidth=2)\n",
    "plt.text(r_half + 0.1, 4, '''$r_{half}$ = ''' + str(round(r_half, 3)) + ''' kpc''', fontsize=18, color='hotpink')\n",
    "\n",
    "plt.xlabel('distance from dwarf center (kpc)', fontsize=17)\n",
    "plt.ylabel('velocity (km/s)', fontsize=17) # using LATEX here!\n",
    "plt.xlim(0, 5)\n",
    "plt.title('mean velocity and velocity dispersion profiles\\nof dark matter particles, dwarf 2, z = 0.130, with RT', loc='center', fontsize=17)\n",
    "plt.xticks(fontsize=15)\n",
    "plt.yticks(fontsize=15)\n",
    "plt.legend(loc='center right', fontsize=18, markerscale=2)\n",
    "\n",
    "plt.show()"
   ]
  },
  {
   "cell_type": "markdown",
   "id": "d0bdf4c3",
   "metadata": {},
   "source": [
    "# CHAPTER 5\n",
    "## As inferred from the velocity dispersion, find the mass enclosed within r<sub>half<sub>"
   ]
  },
  {
   "cell_type": "code",
   "execution_count": null,
   "id": "38ef5db8",
   "metadata": {},
   "outputs": [],
   "source": [
    "'''Generate the mass profile from the dark matter particles.'''\n",
    "\n",
    "mass_prof_dm = np.zeros(np.size(radius_array))\n",
    "h = 0\n",
    "for radius_value in radius_array:\n",
    "    particles = np.where((r_dm_290 < (radius_value + bin_size)))\n",
    "    how_many_particles = np.size(particles)\n",
    "    mass_prof_dm[h] = how_many_particles * 500\n",
    "    h += 1"
   ]
  },
  {
   "cell_type": "code",
   "execution_count": null,
   "id": "4eba37e4",
   "metadata": {},
   "outputs": [],
   "source": [
    "'''Find the velocity dispersion of the star profiles within r_half.'''\n",
    "\n",
    "sigma_star_vx_half = sigma_star_vx[closest]\n",
    "sigma_star_vy_half = sigma_star_vy[closest]\n",
    "sigma_star_vz_half = sigma_star_vz[closest]"
   ]
  },
  {
   "cell_type": "code",
   "execution_count": null,
   "id": "9866c391",
   "metadata": {},
   "outputs": [],
   "source": [
    "G = 4.3009e-3 # pc*(km/s)^2 / Msun\n",
    "M_real = mass_prof_dm[closest]\n",
    "\n",
    "M_wolf = lambda sigma : 3 * (sigma)**2 * (r_half*1000) / G\n",
    "\n",
    "M_half_x_wolf = M_wolf(sigma_star_vx_half)\n",
    "M_half_y_wolf = M_wolf(sigma_star_vy_half)\n",
    "M_half_z_wolf = M_wolf(sigma_star_vz_half)\n",
    "\n",
    "M_ratio_x = M_half_x_wolf / M_real\n",
    "M_ratio_y = M_half_y_wolf / M_real\n",
    "M_ratio_z = M_half_z_wolf / M_real\n",
    "\n",
    "print(format(mass_prof_dm[closest], '.2e'))\n",
    "print(format(M_half_x_wolf, '.2e'))\n",
    "print(format(M_half_y_wolf, '.2e'))\n",
    "print(format(M_half_z_wolf, '.2e'))"
   ]
  },
  {
   "cell_type": "markdown",
   "id": "00d354f4",
   "metadata": {},
   "source": [
    "# CHAPTER 6\n",
    "## Figuring out a M<sub>wolf</sub> function"
   ]
  },
  {
   "cell_type": "code",
   "execution_count": null,
   "id": "90fb4e42",
   "metadata": {},
   "outputs": [],
   "source": [
    "def Wolf_mass(r, sigma):\n",
    "    M_wolf = 3 * (sigma)**2 * (r*1000) / G\n",
    "    return M_wolf"
   ]
  },
  {
   "cell_type": "code",
   "execution_count": null,
   "id": "9c67b730",
   "metadata": {
    "scrolled": false
   },
   "outputs": [],
   "source": [
    "mass_profile = np.zeros(np.size(radius_array))\n",
    "h = 0\n",
    "for radius_value in radius_array:\n",
    "    particles = np.where((r_dm_290 < (radius_value + 0.02)))\n",
    "    how_many_particles = np.size(particles)\n",
    "    mass_profile[h] = how_many_particles * 500\n",
    "    h += 1\n",
    "\n",
    "plt.figure(figsize=(10,10))\n",
    "\n",
    "plt.xlabel('distance from galactic center (kpc)', fontsize=17)\n",
    "plt.ylabel('mass (M$_\\odot$)', fontsize=17)\n",
    "plt.xticks(fontsize=14)\n",
    "plt.yticks(fontsize=14)\n",
    "\n",
    "plt.plot(radius_array, mass_profile, color='#3185FC', linewidth=2, label=\"dark matter mass profile\")\n",
    "plt.plot(radius_array, Wolf_mass(radius_array, sigma_star_vx_half), color='#083D77', label=\"M$_{Wolf}$ from $\\sigma_{v_x}$\")\n",
    "plt.plot(radius_array, Wolf_mass(radius_array, sigma_star_vy_half), color='#DA4167', label=\"M$_{Wolf}$ from $\\sigma_{v_y}$\")\n",
    "plt.plot(radius_array, Wolf_mass(radius_array, sigma_star_vz_half), color='#F4D35E', label=\"M$_{Wolf}$ from $\\sigma_{v_z}$\")\n",
    "\n",
    "plt.axvline(r_half, color='hotpink', linewidth=2)\n",
    "plt.text(r_half + 0.005, 2.5*1e6, '''$r_{half}$ = ''' + str(round(r_half, 3)) + ''' kpc''', fontsize=18, color='hotpink')\n",
    "\n",
    "#plt.xlim(0, 11.3)\n",
    "plt.xlim(0, 0.16)\n",
    "plt.ylim(0, 0.4e7)\n",
    "plt.xticks(fontsize=15)\n",
    "plt.yticks(fontsize=15)\n",
    "plt.title('dwarf 2, RT', fontsize=20)\n",
    "\n",
    "plt.legend(loc='upper left', fontsize=16, markerscale=2)\n",
    "\n",
    "#plt.xscale('log')\n",
    "#plt.yscale('log')   \n",
    "\n",
    "plt.show()"
   ]
  },
  {
   "cell_type": "code",
   "execution_count": null,
   "id": "19a9cad1",
   "metadata": {},
   "outputs": [],
   "source": []
  }
 ],
 "metadata": {
  "kernelspec": {
   "display_name": "Python 3",
   "language": "python",
   "name": "python3"
  },
  "language_info": {
   "codemirror_mode": {
    "name": "ipython",
    "version": 3
   },
   "file_extension": ".py",
   "mimetype": "text/x-python",
   "name": "python",
   "nbconvert_exporter": "python",
   "pygments_lexer": "ipython3",
   "version": "3.8.8"
  }
 },
 "nbformat": 4,
 "nbformat_minor": 5
}
