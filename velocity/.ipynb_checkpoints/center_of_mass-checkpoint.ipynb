{
 "cells": [
  {
   "cell_type": "code",
   "execution_count": 1,
   "id": "2fad86ce",
   "metadata": {},
   "outputs": [],
   "source": [
    "# import modules\n",
    "import numpy as np\n",
    "\n",
    "# import plotting modules\n",
    "import matplotlib\n",
    "import matplotlib.patches as mpatches\n",
    "import matplotlib.pyplot as plt\n",
    "from matplotlib.colors import LogNorm\n",
    "%matplotlib inline\n",
    "\n",
    "from IPython.display import Latex\n",
    "\n",
    "from NFW_Z import NFW_Z\n",
    "\n",
    "%matplotlib inline"
   ]
  },
  {
   "cell_type": "code",
   "execution_count": 2,
   "id": "a5c5a80e",
   "metadata": {},
   "outputs": [],
   "source": [
    "def find_COM(r_vir, star_mass, x, y, z):\n",
    "    i_array = np.array([])\n",
    "    \n",
    "    x_in_rvir = np.array([])\n",
    "    y_in_rvir = np.array([])\n",
    "    z_in_rvir = np.array([])\n",
    "    sm_in_rvir = np.array([])\n",
    "    \n",
    "    r = np.sqrt(x**2 + y**2 + z**2)\n",
    "    for i in range(0, np.size(star_mass) - 1):\n",
    "        if r[i] <= r_vir: \n",
    "            i_array = np.append(i_array, i)\n",
    "\n",
    "    for i in i_array:\n",
    "        sm_in_rvir = np.append(sm_in_rvir, star_mass[int(i)])\n",
    "        x_in_rvir = np.append(x_in_rvir, x[int(i)])\n",
    "        y_in_rvir = np.append(y_in_rvir, y[int(i)])\n",
    "        z_in_rvir = np.append(z_in_rvir, z[int(i)])\n",
    "                        \n",
    "    COM_x = np.sum(x_in_rvir * sm_in_rvir) / np.sum(sm_in_rvir)\n",
    "    COM_y = np.sum(y_in_rvir * sm_in_rvir) / np.sum(sm_in_rvir)\n",
    "    COM_z = np.sum(z_in_rvir * sm_in_rvir) / np.sum(sm_in_rvir)\n",
    "\n",
    "    return COM_x, COM_y, COM_z"
   ]
  },
  {
   "cell_type": "code",
   "execution_count": 3,
   "id": "6d6043c7",
   "metadata": {},
   "outputs": [],
   "source": [
    "def COM(data, r_vir, dx_star, dy_star, dz_star, star_mass):\n",
    "\n",
    "    COM_x, COM_y, COM_z = find_COM(r_vir, star_mass, dx_star, dy_star, dz_star)\n",
    "    \n",
    "    COM_x_tot = np.sum(dx_star * star_mass) / np.sum(star_mass)\n",
    "    COM_y_tot = np.sum(dy_star * star_mass) / np.sum(star_mass)\n",
    "    COM_z_tot = np.sum(dz_star * star_mass) / np.sum(star_mass)\n",
    "    \n",
    "    COM = np.array([COM_x, COM_y, COM_z])\n",
    "    real_COM = np.array([COM_x_tot, COM_y_tot, COM_z_tot])\n",
    "        \n",
    "    print('The center of mass within r_vir is ' + str(COM) + ' kpc')\n",
    "    print('The center of mass overall is ' + str(real_COM) + ' kpc')\n",
    "    \n",
    "    return COM"
   ]
  },
  {
   "cell_type": "code",
   "execution_count": 4,
   "id": "a6c792ef",
   "metadata": {},
   "outputs": [
    {
     "name": "stdout",
     "output_type": "stream",
     "text": [
      "The center of mass within r_vir is [ 0.04967002 -0.04891752 -0.06094553] kpc\n",
      "The center of mass overall is [-13.60025205 -15.63405461  -0.7363042 ] kpc\n",
      "0.09259801218228868 kpc is the distance of the COM within r_vir from the galactic center\n",
      "\n",
      "r_COM/r_vir = 0.008169932255363391\n"
     ]
    }
   ],
   "source": [
    "dwarf1_noRT = np.loadtxt(\"D:/Research/ultra-faint dwarf galaxies/velocity/dwarf1/noRT/dwarf_star_5e8_0290.txt\")\n",
    "\n",
    "rvir_1_noRT = dwarf1_noRT[:,2][0] / 1000\n",
    "\n",
    "x_star_1_noRT = dwarf1_noRT[:,4] / 1000 # converting pc to kpc\n",
    "y_star_1_noRT = dwarf1_noRT[:,5] / 1000 # converting pc to kpc\n",
    "z_star_1_noRT = dwarf1_noRT[:,6] / 1000 # converting pc to kpc\n",
    "\n",
    "star_mass_1_noRT = dwarf1_noRT[:,11]\n",
    "\n",
    "#COM(dwarf1_noRT, rvir_1_noRT, x_star_1_noRT, y_star_1_noRT, z_star_1_noRT, star_mass_1_noRT)\n",
    "#print('The virial radius is', str(rvir_1_noRT) + ' kpc.')\n",
    "\n",
    "COM_pos_1noRT = COM(dwarf1_noRT, rvir_1_noRT, x_star_1_noRT, y_star_1_noRT, z_star_1_noRT, star_mass_1_noRT)\n",
    "COM_distance_1noRT = np.sqrt(np.sum(COM_pos_1noRT ** 2))\n",
    "print(COM_distance_1noRT, 'kpc is the distance of the COM within r_vir from the galactic center')\n",
    "print('\\nr_COM/r_vir =', COM_distance_1noRT / rvir_1_noRT)"
   ]
  },
  {
   "cell_type": "code",
   "execution_count": 5,
   "id": "22eb2e59",
   "metadata": {},
   "outputs": [
    {
     "name": "stdout",
     "output_type": "stream",
     "text": [
      "The center of mass within r_vir is [-0.00034758  0.00856208 -0.0569229 ] kpc\n",
      "The center of mass overall is [ -0.43223896 -22.94795873 -14.24528132] kpc\n",
      "0.05756428227039109 kpc is the distance of the COM within r_vir from the galactic center\n",
      "\n",
      "r_COM/r_vir = 0.005042421362157594\n"
     ]
    }
   ],
   "source": [
    "dwarf1_RT = np.loadtxt(\"D:/Research/ultra-faint dwarf galaxies/velocity/dwarf1/RT/dwarf_star_5e8_rt_0290.txt\")\n",
    "\n",
    "rvir_1_RT = dwarf1_RT[:,2][0] / 1000\n",
    "\n",
    "x_star_1_RT = dwarf1_RT[:,4] / 1000 # converting pc to kpc\n",
    "y_star_1_RT = dwarf1_RT[:,5] / 1000 # converting pc to kpc\n",
    "z_star_1_RT = dwarf1_RT[:,6] / 1000 # converting pc to kpc\n",
    "\n",
    "star_mass_1_RT = dwarf1_RT[:,11]\n",
    "\n",
    "COM_pos_1RT = COM(dwarf1_RT, rvir_1_RT, x_star_1_RT, y_star_1_RT, z_star_1_RT, star_mass_1_RT)\n",
    "COM_distance_1RT = np.sqrt(np.sum(COM_pos_1RT ** 2))\n",
    "print(COM_distance_1RT, 'kpc is the distance of the COM within r_vir from the galactic center')\n",
    "print('\\nr_COM/r_vir =', COM_distance_1RT / rvir_1_RT)"
   ]
  },
  {
   "cell_type": "code",
   "execution_count": 6,
   "id": "75d884f1",
   "metadata": {},
   "outputs": [
    {
     "name": "stdout",
     "output_type": "stream",
     "text": [
      "The center of mass within r_vir is [ 0.03130524 -0.03547831  0.03790455] kpc\n",
      "The center of mass overall is [ 10.54380613 -15.23002051 -25.3420009 ] kpc\n",
      "0.060625766191321234 kpc is the distance of the COM within r_vir from the galactic center\n",
      "\n",
      "r_COM/r_vir = 0.0062166883226506325\n"
     ]
    }
   ],
   "source": [
    "dwarf2_noRT = np.loadtxt(\"D:/Research/ultra-faint dwarf galaxies/velocity/dwarf2/noRT/dwarf_star_7e8_0300.txt\")\n",
    "\n",
    "rvir_2_noRT = dwarf2_noRT[:,2][0] / 1000\n",
    "\n",
    "x_star_2_noRT = dwarf2_noRT[:,4] / 1000 # converting pc to kpc\n",
    "y_star_2_noRT = dwarf2_noRT[:,5] / 1000 # converting pc to kpc\n",
    "z_star_2_noRT = dwarf2_noRT[:,6] / 1000 # converting pc to kpc\n",
    "\n",
    "star_mass_2_noRT = dwarf2_noRT[:,11]\n",
    "\n",
    "COM_pos_2noRT = COM(dwarf2_noRT, rvir_2_noRT, x_star_2_noRT, y_star_2_noRT, z_star_2_noRT, star_mass_2_noRT)\n",
    "COM_distance_2noRT = np.sqrt(np.sum(COM_pos_2noRT ** 2))\n",
    "print(COM_distance_2noRT, 'kpc is the distance of the COM within r_vir from the galactic center')\n",
    "print('\\nr_COM/r_vir =', COM_distance_2noRT / rvir_2_noRT)"
   ]
  },
  {
   "cell_type": "code",
   "execution_count": 7,
   "id": "0f09b251",
   "metadata": {},
   "outputs": [
    {
     "name": "stdout",
     "output_type": "stream",
     "text": [
      "The center of mass within r_vir is [-0.10465706  0.18145055  0.02353014] kpc\n",
      "The center of mass overall is [ 14.38448643 -15.56237373 -19.28266324] kpc\n",
      "0.21078678409119234 kpc is the distance of the COM within r_vir from the galactic center\n",
      "\n",
      "r_COM/r_vir = 0.02166448611363184\n"
     ]
    }
   ],
   "source": [
    "dwarf2_RT = np.loadtxt(\"D:/Research/ultra-faint dwarf galaxies/velocity/dwarf2/RT/dwarf_star_7e8_rt_0300.txt\")\n",
    "\n",
    "rvir_2_RT = dwarf2_RT[:,2][0] / 1000\n",
    "\n",
    "x_star_2_RT = dwarf2_RT[:,4] / 1000 # converting pc to kpc\n",
    "y_star_2_RT = dwarf2_RT[:,5] / 1000 # converting pc to kpc\n",
    "z_star_2_RT = dwarf2_RT[:,6] / 1000 # converting pc to kpc\n",
    "\n",
    "star_mass_2_RT = dwarf2_RT[:,11]\n",
    "\n",
    "COM_pos_2RT = COM(dwarf2_RT, rvir_2_RT, x_star_2_RT, y_star_2_RT, z_star_2_RT, star_mass_2_RT)\n",
    "COM_distance_2RT = np.sqrt(np.sum(COM_pos_2RT ** 2))\n",
    "print(COM_distance_2RT, 'kpc is the distance of the COM within r_vir from the galactic center')\n",
    "print('\\nr_COM/r_vir =', COM_distance_2RT / rvir_2_RT)"
   ]
  },
  {
   "cell_type": "code",
   "execution_count": null,
   "id": "175ea14c",
   "metadata": {},
   "outputs": [],
   "source": []
  }
 ],
 "metadata": {
  "kernelspec": {
   "display_name": "Python 3",
   "language": "python",
   "name": "python3"
  },
  "language_info": {
   "codemirror_mode": {
    "name": "ipython",
    "version": 3
   },
   "file_extension": ".py",
   "mimetype": "text/x-python",
   "name": "python",
   "nbconvert_exporter": "python",
   "pygments_lexer": "ipython3",
   "version": "3.8.8"
  }
 },
 "nbformat": 4,
 "nbformat_minor": 5
}
