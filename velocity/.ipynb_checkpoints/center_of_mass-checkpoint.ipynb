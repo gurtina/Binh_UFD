{
 "cells": [
  {
   "cell_type": "code",
   "execution_count": 210,
   "id": "2fad86ce",
   "metadata": {},
   "outputs": [],
   "source": [
    "# import modules\n",
    "import numpy as np\n",
    "\n",
    "# import plotting modules\n",
    "import matplotlib\n",
    "import matplotlib.patches as mpatches\n",
    "import matplotlib.pyplot as plt\n",
    "from matplotlib.colors import LogNorm\n",
    "%matplotlib inline\n",
    "\n",
    "from IPython.display import Latex\n",
    "\n",
    "from NFW_Z import NFW_Z\n",
    "\n",
    "%matplotlib inline"
   ]
  },
  {
   "cell_type": "code",
   "execution_count": 211,
   "id": "a5c5a80e",
   "metadata": {},
   "outputs": [],
   "source": [
    "def find_COM(r_vir, star_mass, position):\n",
    "    pos_in_rvir = np.array([])\n",
    "    sm_in_rvir = np.array([])\n",
    "    \n",
    "    for i in range(0, np.size(star_mass)-1):\n",
    "        if position[i] <= r_vir:\n",
    "            pos_in_rvir = np.append(pos_in_rvir, position[i])\n",
    "            sm_in_rvir = np.append(sm_in_rvir, star_mass[i])\n",
    "            \n",
    "    COM = np.sum(pos_in_rvir * sm_in_rvir) / np.sum(sm_in_rvir)\n",
    "    return COM"
   ]
  },
  {
   "cell_type": "code",
   "execution_count": 212,
   "id": "6d6043c7",
   "metadata": {},
   "outputs": [],
   "source": [
    "def COM(data, r_vir, dx_star, dy_star, dz_star, star_mass):\n",
    "\n",
    "    COM_x = find_COM(r_vir, star_mass, dx_star)\n",
    "    COM_y = find_COM(r_vir, star_mass, dy_star)\n",
    "    COM_z = find_COM(r_vir, star_mass, dz_star)\n",
    "    \n",
    "    COM_x_tot = np.sum(dx_star * star_mass) / np.sum(star_mass)\n",
    "    COM_y_tot = np.sum(dy_star * star_mass) / np.sum(star_mass)\n",
    "    COM_z_tot = np.sum(dz_star * star_mass) / np.sum(star_mass)\n",
    "    \n",
    "    COM = np.array([COM_x, COM_y, COM_z])\n",
    "    real_COM = np.array([COM_x_tot, COM_y_tot, COM_z_tot])\n",
    "        \n",
    "    print('The center of mass within r_vir is ' + str(COM) + ' kpc')\n",
    "    print('The center of mass overall is ' + str(real_COM) + ' kpc')"
   ]
  },
  {
   "cell_type": "code",
   "execution_count": 213,
   "id": "aa4e8325",
   "metadata": {},
   "outputs": [
    {
     "name": "stdout",
     "output_type": "stream",
     "text": [
      "The center of mass within r_vir is [-25.69142581 -21.51165428 -19.41897283] kpc\n",
      "The center of mass overall is [-13.60025205 -15.63405461  -0.7363042 ] kpc\n"
     ]
    }
   ],
   "source": [
    "dwarf1_noRT = np.loadtxt(\"D:/Research/ultra-faint dwarf galaxies/velocity/dwarf1/noRT/dwarf_star_5e8_0290.txt\")\n",
    "\n",
    "rvir_1_noRT = dwarf1_noRT[:,2][0] / 1000\n",
    "\n",
    "x_star_1_noRT = dwarf1_noRT[:,4] / 1000 # converting pc to kpc\n",
    "y_star_1_noRT = dwarf1_noRT[:,5] / 1000 # converting pc to kpc\n",
    "z_star_1_noRT = dwarf1_noRT[:,6] / 1000 # converting pc to kpc\n",
    "\n",
    "star_mass_1_noRT = dwarf1_noRT[:,11]\n",
    "\n",
    "COM(dwarf1_noRT, rvir_1_noRT, x_star_1_noRT, y_star_1_noRT, z_star_1_noRT, star_mass_1_noRT)"
   ]
  },
  {
   "cell_type": "code",
   "execution_count": 214,
   "id": "9b58e2ce",
   "metadata": {},
   "outputs": [
    {
     "name": "stdout",
     "output_type": "stream",
     "text": [
      "The center of mass within r_vir is [-16.3230092  -26.90207694 -26.11549758] kpc\n",
      "The center of mass overall is [ -0.43223896 -22.94795873 -14.24528132] kpc\n"
     ]
    }
   ],
   "source": [
    "dwarf1_RT = np.loadtxt(\"D:/Research/ultra-faint dwarf galaxies/velocity/dwarf1/RT/dwarf_star_5e8_rt_0290.txt\")\n",
    "\n",
    "rvir_1_RT = dwarf1_RT[:,2][0] / 1000\n",
    "\n",
    "x_star_1_RT = dwarf1_RT[:,4] / 1000 # converting pc to kpc\n",
    "y_star_1_RT = dwarf1_RT[:,5] / 1000 # converting pc to kpc\n",
    "z_star_1_RT = dwarf1_RT[:,6] / 1000 # converting pc to kpc\n",
    "\n",
    "star_mass_1_RT = dwarf1_RT[:,11]\n",
    "\n",
    "COM(dwarf1_RT, rvir_1_RT, x_star_1_RT, y_star_1_RT, z_star_1_RT, star_mass_1_RT)"
   ]
  },
  {
   "cell_type": "code",
   "execution_count": 215,
   "id": "b432a442",
   "metadata": {},
   "outputs": [
    {
     "name": "stdout",
     "output_type": "stream",
     "text": [
      "The center of mass within r_vir is [-22.46430268 -33.24752403 -34.72864958] kpc\n",
      "The center of mass overall is [ 10.54380613 -15.23002051 -25.3420009 ] kpc\n"
     ]
    }
   ],
   "source": [
    "dwarf2_noRT = np.loadtxt(\"D:/Research/ultra-faint dwarf galaxies/velocity/dwarf2/noRT/dwarf_star_7e8_0300.txt\")\n",
    "\n",
    "rvir_2_noRT = dwarf2_noRT[:,2][0] / 1000\n",
    "\n",
    "x_star_2_noRT = dwarf2_noRT[:,4] / 1000 # converting pc to kpc\n",
    "y_star_2_noRT = dwarf2_noRT[:,5] / 1000 # converting pc to kpc\n",
    "z_star_2_noRT = dwarf2_noRT[:,6] / 1000 # converting pc to kpc\n",
    "\n",
    "star_mass_2_noRT = dwarf2_noRT[:,11]\n",
    "\n",
    "COM(dwarf2_noRT, rvir_2_noRT, x_star_2_noRT, y_star_2_noRT, z_star_2_noRT, star_mass_2_noRT)"
   ]
  },
  {
   "cell_type": "code",
   "execution_count": 216,
   "id": "f9e5f665",
   "metadata": {},
   "outputs": [
    {
     "name": "stdout",
     "output_type": "stream",
     "text": [
      "The center of mass within r_vir is [-21.63631047 -38.36482388 -35.20514705] kpc\n",
      "The center of mass overall is [ 14.38448643 -15.56237373 -19.28266324] kpc\n"
     ]
    }
   ],
   "source": [
    "dwarf2_RT = np.loadtxt(\"D:/Research/ultra-faint dwarf galaxies/velocity/dwarf2/RT/dwarf_star_7e8_rt_0300.txt\")\n",
    "\n",
    "rvir_2_RT = dwarf2_RT[:,2][0] / 1000\n",
    "\n",
    "x_star_2_RT = dwarf2_RT[:,4] / 1000 # converting pc to kpc\n",
    "y_star_2_RT = dwarf2_RT[:,5] / 1000 # converting pc to kpc\n",
    "z_star_2_RT = dwarf2_RT[:,6] / 1000 # converting pc to kpc\n",
    "\n",
    "star_mass_2_RT = dwarf2_RT[:,11]\n",
    "\n",
    "COM(dwarf2_RT, rvir_2_RT, x_star_2_RT, y_star_2_RT, z_star_2_RT, star_mass_2_RT)"
   ]
  },
  {
   "cell_type": "code",
   "execution_count": null,
   "id": "7f108563",
   "metadata": {},
   "outputs": [],
   "source": []
  }
 ],
 "metadata": {
  "kernelspec": {
   "display_name": "Python 3",
   "language": "python",
   "name": "python3"
  },
  "language_info": {
   "codemirror_mode": {
    "name": "ipython",
    "version": 3
   },
   "file_extension": ".py",
   "mimetype": "text/x-python",
   "name": "python",
   "nbconvert_exporter": "python",
   "pygments_lexer": "ipython3",
   "version": "3.8.8"
  }
 },
 "nbformat": 4,
 "nbformat_minor": 5
}
