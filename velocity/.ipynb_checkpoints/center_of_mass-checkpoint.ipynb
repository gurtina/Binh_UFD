{
 "cells": [
  {
   "cell_type": "code",
   "execution_count": 4,
   "id": "e245740c",
   "metadata": {},
   "outputs": [],
   "source": [
    "# import modules\n",
    "import numpy as np\n",
    "\n",
    "# import plotting modules\n",
    "import matplotlib\n",
    "import matplotlib.patches as mpatches\n",
    "import matplotlib.pyplot as plt\n",
    "from matplotlib.colors import LogNorm\n",
    "%matplotlib inline\n",
    "\n",
    "from IPython.display import Latex\n",
    "\n",
    "from NFW_Z import NFW_Z\n",
    "\n",
    "%matplotlib inline"
   ]
  },
  {
   "cell_type": "code",
   "execution_count": null,
   "id": "ec2b076a",
   "metadata": {},
   "outputs": [],
   "source": [
    "dm_290 = np.loadtxt(\"D:/Research/ultra-faint dwarf galaxies/velocity/dwarf1/noRT/dwarf_dm_5e8_0290.txt\")\n",
    "\n",
    "dx_dm_290 = dm_290[:,4] / 1000 # converting pc to kpc\n",
    "dy_dm_290 = dm_290[:,5] / 1000 # converting pc to kpc\n",
    "dz_dm_290 = dm_290[:,6] / 1000 # converting pc to kpc\n",
    "#r_dm_290 = np.sqrt(dx_dm_290**2 + dy_dm_290**2 + dz_dm_290**2)\n",
    "#print(max(r_dm_290))"
   ]
  },
  {
   "cell_type": "code",
   "execution_count": null,
   "id": "6dc01f58",
   "metadata": {},
   "outputs": [],
   "source": [
    "star_290 = np.loadtxt(\"D:/Research/ultra-faint dwarf galaxies/velocity/dwarf1/noRT/dwarf_star_5e8_0290.txt\")\n",
    "\n",
    "dx_star_290 = star_290[:,4] / 1000 # converting pc to kpc\n",
    "dy_star_290 = star_290[:,5] / 1000 # converting pc to kpc\n",
    "dz_star_290 = star_290[:,6] / 1000 # converting pc to kpc\n",
    "#r_star_290 = np.sqrt(dx_star_290**2 + dy_star_290**2 + dz_star_290**2)"
   ]
  },
  {
   "cell_type": "code",
   "execution_count": null,
   "id": "d7a2791a",
   "metadata": {},
   "outputs": [],
   "source": []
  }
 ],
 "metadata": {
  "kernelspec": {
   "display_name": "Python 3",
   "language": "python",
   "name": "python3"
  },
  "language_info": {
   "codemirror_mode": {
    "name": "ipython",
    "version": 3
   },
   "file_extension": ".py",
   "mimetype": "text/x-python",
   "name": "python",
   "nbconvert_exporter": "python",
   "pygments_lexer": "ipython3",
   "version": "3.8.8"
  }
 },
 "nbformat": 4,
 "nbformat_minor": 5
}
