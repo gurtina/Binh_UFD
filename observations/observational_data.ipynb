{
 "cells": [
  {
   "cell_type": "code",
   "execution_count": 3,
   "id": "c1e0f7b0",
   "metadata": {},
   "outputs": [
    {
     "data": {
      "text/plain": [
       "<matplotlib.collections.PathCollection at 0x1fc7f3ded60>"
      ]
     },
     "execution_count": 3,
     "metadata": {},
     "output_type": "execute_result"
    },
    {
     "data": {
      "image/png": "[encoded data removed]",
      "text/plain": [
       "<Figure size 432x288 with 1 Axes>"
      ]
     },
     "metadata": {
      "needs_background": "light"
     },
     "output_type": "display_data"
    }
   ],
   "source": [
    "import numpy as np\n",
    "import matplotlib.pyplot as plt\n",
    "\n",
    "data = np.genfromtxt('D:/Research/ultra-faint dwarf galaxies/observational_data/r05_ufd.txt',dtype='str')\n",
    "r05_ufd = np.array(data[:,2], dtype='float32')\n",
    "sm_ufd = np.array(data[:,3], dtype='float32')\n",
    "plt.scatter(np.log10(sm_ufd*1e6), np.log10(r05_ufd), marker='^', s=130, edgecolor='black', \n",
    "            color='blue', alpha=0.6, label='MW UFDs')\n",
    "\n",
    "data = np.genfromtxt('D:/Research/ultra-faint dwarf galaxies/observational_data/r05_dsph.txt',dtype='str')\n",
    "r05_dsph = np.array(data[:,2], dtype='float32')\n",
    "sm_dsph = np.array(data[:,3], dtype='float32')\n",
    "plt.scatter(np.log10(sm_dsph*1e6), np.log10(r05_dsph), marker='^', s=130, edgecolor='black', \n",
    "            color='black', alpha=0.6, label='MW dSphs')"
   ]
  },
  {
   "cell_type": "code",
   "execution_count": null,
   "id": "07c9a8e3",
   "metadata": {},
   "outputs": [],
   "source": []
  }
 ],
 "metadata": {
  "kernelspec": {
   "display_name": "Python 3",
   "language": "python",
   "name": "python3"
  },
  "language_info": {
   "codemirror_mode": {
    "name": "ipython",
    "version": 3
   },
   "file_extension": ".py",
   "mimetype": "text/x-python",
   "name": "python",
   "nbconvert_exporter": "python",
   "pygments_lexer": "ipython3",
   "version": "3.8.8"
  }
 },
 "nbformat": 4,
 "nbformat_minor": 5
}
